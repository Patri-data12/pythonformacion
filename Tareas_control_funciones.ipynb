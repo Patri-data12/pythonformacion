{
 "cells": [
  {
   "cell_type": "code",
   "execution_count": 1,
   "metadata": {},
   "outputs": [],
   "source": [
    "#EJERCICIOS CONTROL Y FUNCIONES"
   ]
  },
  {
   "cell_type": "code",
   "execution_count": 7,
   "metadata": {},
   "outputs": [
    {
     "name": "stdout",
     "output_type": "stream",
     "text": [
      "1505\n",
      "1540\n",
      "1575\n",
      "1610\n",
      "1645\n",
      "1680\n",
      "1715\n",
      "1750\n",
      "1785\n",
      "1820\n",
      "1855\n",
      "1890\n",
      "1925\n",
      "1960\n",
      "1995\n",
      "2030\n",
      "2065\n",
      "2100\n",
      "2135\n",
      "2170\n",
      "2205\n",
      "2240\n",
      "2275\n",
      "2310\n",
      "2345\n",
      "2380\n",
      "2415\n",
      "2450\n",
      "2485\n",
      "2520\n",
      "2555\n",
      "2590\n",
      "2625\n",
      "2660\n",
      "2695\n"
     ]
    }
   ],
   "source": [
    "# 1. Escribe una función para encontrar los números que son divisibles por 7 y múltiplos de 5, entre 1500 y 2700 (ambos incluidos).\n",
    "\n",
    "inicio = 1500\n",
    "fin = 2700\n",
    "\n",
    "list_num = list(range(inicio,fin + 1))\n",
    "\n",
    "list_num\n",
    "\n",
    "for num in list_num:\n",
    "    if num % 7 == 0 and num % 5 == 0:\n",
    "        print(num)"
   ]
  },
  {
   "cell_type": "code",
   "execution_count": null,
   "metadata": {},
   "outputs": [],
   "source": [
    "# Escribe una función para convertir temperaturas entre Celsius y Fahrenheit.\n",
    "#[Fórmula: c/5 = f-32/9 [donde c = temperatura en grados Celsius y f = temperatura en grados Fahrenheit]\n",
    "#Resultado esperado:\n",
    "#60 °C es 140 en grados Fahrenheit\n",
    "#45 °F es 7 en grados Celsius\n",
    "\n",
    "c = int(input('Introduce la temperatura en ºC: '))\n",
    "f = (f())"
   ]
  }
 ],
 "metadata": {
  "kernelspec": {
   "display_name": "Python 3.8 - Pytorch and Tensorflow",
   "language": "python",
   "name": "python38-azureml-pt-tf"
  },
  "language_info": {
   "codemirror_mode": {
    "name": "ipython",
    "version": 3
   },
   "file_extension": ".py",
   "mimetype": "text/x-python",
   "name": "python",
   "nbconvert_exporter": "python",
   "pygments_lexer": "ipython3",
   "version": "3.10.14"
  }
 },
 "nbformat": 4,
 "nbformat_minor": 2
}
