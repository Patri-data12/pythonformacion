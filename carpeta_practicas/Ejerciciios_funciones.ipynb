{
 "cells": [
  {
   "cell_type": "code",
   "execution_count": null,
   "metadata": {},
   "outputs": [
    {
     "name": "stdout",
     "output_type": "stream",
     "text": [
      "True\n",
      "False\n",
      "True\n"
     ]
    }
   ],
   "source": [
    "#Implementa un función que verifique si una palabra dada es un palíndromo (se lee igual adelante o atrás).\n",
    "\n",
    "def es_palindromo(palabra):\n",
    "    # Convertir la palabra a minúsculas para ignorar mayúsculas y minúsculas\n",
    "    palabra = palabra.lower()\n",
    "    # Comparar la palabra con su reverso\n",
    "    return palabra == palabra[::-1]\n",
    "\n",
    "# Ejemplos de uso\n",
    "print(es_palindromo(\"radar\"))  # Output: True\n",
    "print(es_palindromo(\"hola\"))   # Output: False\n",
    "print(es_palindromo(\"Ana\"))    # Output: True\n",
    "\n",
    "#Posibilidad de usar reversed y comparar\n",
    "\n",
    "    "
   ]
  },
  {
   "cell_type": "code",
   "execution_count": null,
   "metadata": {},
   "outputs": [
    {
     "name": "stdout",
     "output_type": "stream",
     "text": [
      "Cantidad de números impares: 5\n"
     ]
    }
   ],
   "source": [
    "# Implementa un función que reciba una serie de números como parámetro y determine cuantos impares hay en ella.\n",
    "\n",
    "def contar_impares(numeros):\n",
    "    # Inicializar el contador de números impares\n",
    "    contador_impares = 0\n",
    "    \n",
    "    # Recorrer la lista de números\n",
    "    for numero in numeros:\n",
    "        # Comprobar si el número es impar\n",
    "        if numero % 2 != 0:\n",
    "            contador_impares += 1\n",
    "    \n",
    "    return contador_impares\n",
    "\n",
    "# Ejemplo de uso\n",
    "numeros = [1, 2, 3, 4, 5, 6, 7, 8, 9, 10]\n",
    "print(f\"Cantidad de números impares: {contar_impares(numeros)}\")  # Output: 5\n",
    "\n",
    "\n",
    "\n",
    "#def getImpares(serie):\n",
    "#   print(serie)\n",
    "#   num_imp = 0\n",
    "#   for aNum in serir:\n",
    "#       if aNUm % 2 != 0:\n",
    "#           num_imp += 1\n",
    "#   return num_imp\n",
    "\n",
    "#nums = list(range(1,100,3)) range:genera lista con saltos en este caso del 1 al 100 de 3 en 3\n",
    "#impares = getImpares(*nums) el * expande la lista y llega un núm de argumentos equivalente al tamaño de la lista\n",
    "#print(impares)\n"
   ]
  },
  {
   "cell_type": "code",
   "execution_count": null,
   "metadata": {},
   "outputs": [
    {
     "data": {
      "text/plain": [
       "[{'nombre': 'juAn', 'direccion': 'calle Cielo', 'edad': 12},\n",
       " {'nombre': 'pepIto', 'direccion': 'calle Mar', 'edad': 4},\n",
       " {'nombre': 'maRía', 'direccion': 'calle Tierra', 'edad': 5}]"
      ]
     },
     "execution_count": 19,
     "metadata": {},
     "output_type": "execute_result"
    }
   ],
   "source": [
    "#Dada una lista de alumnos, donde cada alumno es un dictionario con \"nombre, direccion y edad\"; implementa una solución basada en funciones que transforme la letra intermedia (o más cercana al centro) del nombre de cada alumno en mayúscula y el resto en minúsculas.\n",
    "\n",
    "alumnos = [\n",
    "    {'nombre':'Juan','direccion':'calle Cielo','edad':12},\n",
    "    {'nombre':'Pepito','direccion':'calle Mar','edad':4},\n",
    "    {'nombre':'María','direccion':'calle Tierra','edad':5}\n",
    "]\n",
    "\n",
    "def trasnform_nombre(nombre):\n",
    "    nombre = nombre.lower()\n",
    "    longitud = len(nombre)\n",
    "    posicion_media = longitud//2\n",
    "    nombre_trasnform = nombre[:posicion_media] + nombre[posicion_media].upper() + nombre[posicion_media + 1:]\n",
    "    return nombre_trasnform\n",
    "\n",
    "def transform_nombre_alumnos(alumnos):\n",
    "    for alumno in alumnos:\n",
    "        alumno['nombre'] = trasnform_nombre(alumno['nombre'])\n",
    "\n",
    "transform_nombre_alumnos(alumnos)\n",
    "\n",
    "alumnos\n",
    "\n",
    "#for alumno in alumnos:\n",
    "    #print(alumno['nombre']) Solo nombres\n",
    "\n",
    "# Trabajamos en un contexto mutable porque estamos transformando el valor dado. "
   ]
  },
  {
   "cell_type": "code",
   "execution_count": 20,
   "metadata": {},
   "outputs": [
    {
     "name": "stdout",
     "output_type": "stream",
     "text": [
      "Lista de (nombre, direccion): [('Juan', 'calle Cielo'), ('Pepito', 'calle Mar'), ('María', 'calle Tierra')]\n",
      "Lista de (nombre, edad): [('Juan', 12), ('Pepito', 4), ('María', 5)]\n"
     ]
    }
   ],
   "source": [
    "#- Dada una lista de alumnos anterior, donde cada alumno es un dictionario con nombre, direccion y edad; implementa una solución basada en funciones que transforme la lista en dos listas de tuplas del tipo (nombre, direccion), (nombre, edad).\n",
    "\n",
    "alumnos = [\n",
    "    {'nombre':'Juan','direccion':'calle Cielo','edad':12},\n",
    "    {'nombre':'Pepito','direccion':'calle Mar','edad':4},\n",
    "    {'nombre':'María','direccion':'calle Tierra','edad':5}\n",
    "]\n",
    "\n",
    "def transformar_listas(alumnos):\n",
    "    lista_nombre_direccion = []\n",
    "    lista_nombre_edad = []\n",
    "\n",
    "    for alumno in alumnos:\n",
    "        nombre = alumno['nombre']\n",
    "        direccion = alumno['direccion']\n",
    "        edad = alumno['edad']\n",
    "        \n",
    "        lista_nombre_direccion.append((nombre, direccion))\n",
    "        lista_nombre_edad.append((nombre, edad))\n",
    "    \n",
    "    return lista_nombre_direccion, lista_nombre_edad\n",
    "\n",
    "# Transformar la lista de alumnos\n",
    "lista_nombre_direccion, lista_nombre_edad = transformar_listas(alumnos)\n",
    "\n",
    "# Imprimir las listas resultantes\n",
    "print(\"Lista de (nombre, direccion):\", lista_nombre_direccion)\n",
    "print(\"Lista de (nombre, edad):\", lista_nombre_edad)"
   ]
  },
  {
   "cell_type": "code",
   "execution_count": 22,
   "metadata": {},
   "outputs": [
    {
     "data": {
      "text/plain": [
       "[1, 8, 27, 64, 125, 216, 343, 512]"
      ]
     },
     "execution_count": 22,
     "metadata": {},
     "output_type": "execute_result"
    }
   ],
   "source": [
    "#Escribe una expresión lambda que eleve al cubo todos los números de la lista siguiente: [1,2,3,4,5,6,7,8], usando la función map\n",
    "\n",
    "lista = [1,2,3,4,5,6,7,8]\n",
    "\n",
    "result = map(lambda x:x**3,lista)\n",
    "\n",
    "list(result)"
   ]
  },
  {
   "cell_type": "code",
   "execution_count": 27,
   "metadata": {},
   "outputs": [
    {
     "ename": "TypeError",
     "evalue": "getImpares() takes 1 positional argument but 33 were given",
     "output_type": "error",
     "traceback": [
      "\u001b[0;31m---------------------------------------------------------------------------\u001b[0m",
      "\u001b[0;31mTypeError\u001b[0m                                 Traceback (most recent call last)",
      "Cell \u001b[0;32mIn[27], line 11\u001b[0m\n\u001b[1;32m      8\u001b[0m     \u001b[38;5;28;01mreturn\u001b[39;00m num_imp\n\u001b[1;32m     10\u001b[0m nums \u001b[38;5;241m=\u001b[39m \u001b[38;5;28mlist\u001b[39m(\u001b[38;5;28mrange\u001b[39m(\u001b[38;5;241m1\u001b[39m,\u001b[38;5;241m100\u001b[39m,\u001b[38;5;241m3\u001b[39m)) \u001b[38;5;66;03m#range:genera lista con saltos en este caso del 1 al 100 de 3 en 3\u001b[39;00m\n\u001b[0;32m---> 11\u001b[0m impares \u001b[38;5;241m=\u001b[39m \u001b[43mgetImpares\u001b[49m\u001b[43m(\u001b[49m\u001b[38;5;241;43m*\u001b[39;49m\u001b[43mnums\u001b[49m\u001b[43m)\u001b[49m \u001b[38;5;66;03m#el * expande la lista y llega un núm de argumentos equivalente al tamaño de la lista\u001b[39;00m\n\u001b[1;32m     12\u001b[0m \u001b[38;5;28mprint\u001b[39m(impares)\n",
      "\u001b[0;31mTypeError\u001b[0m: getImpares() takes 1 positional argument but 33 were given"
     ]
    }
   ],
   "source": [
    "def getImpares(serie):\n",
    "   print(serie)\n",
    "   \n",
    "   num_imp = 0\n",
    "   for aNum in serie:\n",
    "    if aNUm % 2 != 0:\n",
    "       num_imp += 1\n",
    "    return num_imp\n",
    "\n",
    "nums = list(range(1,100,3)) #range:genera lista con saltos en este caso del 1 al 100 de 3 en 3\n",
    "impares = getImpares(*nums) #el * expande la lista y llega un núm de argumentos equivalente al tamaño de la lista\n",
    "print(impares)\n"
   ]
  }
 ],
 "metadata": {
  "kernelspec": {
   "display_name": "Python 3.8 - AzureML",
   "language": "python",
   "name": "python38-azureml"
  },
  "language_info": {
   "codemirror_mode": {
    "name": "ipython",
    "version": 3
   },
   "file_extension": ".py",
   "mimetype": "text/x-python",
   "name": "python",
   "nbconvert_exporter": "python",
   "pygments_lexer": "ipython3",
   "version": "3.10.11"
  }
 },
 "nbformat": 4,
 "nbformat_minor": 2
}
