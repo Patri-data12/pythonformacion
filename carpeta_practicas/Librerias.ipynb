{
 "cells": [
  {
   "cell_type": "code",
   "execution_count": 1,
   "metadata": {},
   "outputs": [],
   "source": [
    "#Librerías \n",
    "#Se importan para tener a mano variables, constantes, funciones, etc. que nos simplifique el trabajo"
   ]
  },
  {
   "cell_type": "code",
   "execution_count": 3,
   "metadata": {},
   "outputs": [
    {
     "data": {
      "text/plain": [
       "3.141592653589793"
      ]
     },
     "execution_count": 3,
     "metadata": {},
     "output_type": "execute_result"
    }
   ],
   "source": [
    "import math\n",
    "\n",
    "math.nan\n",
    "math.pi\n"
   ]
  },
  {
   "cell_type": "code",
   "execution_count": 6,
   "metadata": {},
   "outputs": [
    {
     "data": {
      "text/plain": [
       "nan"
      ]
     },
     "execution_count": 6,
     "metadata": {},
     "output_type": "execute_result"
    }
   ],
   "source": [
    "#Se puede extraer sólo algunos elementos\n",
    "\n",
    "from math import pi, nan\n",
    "\n",
    "pi\n",
    "nan\n"
   ]
  },
  {
   "cell_type": "code",
   "execution_count": 8,
   "metadata": {},
   "outputs": [
    {
     "data": {
      "text/plain": [
       "nan"
      ]
     },
     "execution_count": 8,
     "metadata": {},
     "output_type": "execute_result"
    }
   ],
   "source": [
    "#ya instalada\n",
    "pi\n",
    "nan"
   ]
  },
  {
   "cell_type": "code",
   "execution_count": 10,
   "metadata": {},
   "outputs": [
    {
     "name": "stdout",
     "output_type": "stream",
     "text": [
      "3.141592653589793\n",
      "nan\n"
     ]
    }
   ],
   "source": [
    "#En caso de hacerlo en programa  debería verse\n",
    "\n",
    "from math import pi, nan\n",
    "\n",
    "print(pi)\n",
    "print(nan)"
   ]
  },
  {
   "cell_type": "code",
   "execution_count": 14,
   "metadata": {},
   "outputs": [
    {
     "name": "stdout",
     "output_type": "stream",
     "text": [
      "500 288.5307609250702 1\n"
     ]
    }
   ],
   "source": [
    "#importamos la librería con un alias\n",
    "\n",
    "import statistics as st\n",
    "\n",
    "num =list(range(1,1000))\n",
    "m = st.mean(num)\n",
    "desviacion_standard = st.stdev(num)\n",
    "mod = st.mode(num)\n",
    "print(m, desviacion_standard, mod)"
   ]
  },
  {
   "cell_type": "markdown",
   "metadata": {},
   "source": [
    "### Ficheros"
   ]
  },
  {
   "cell_type": "code",
   "execution_count": 34,
   "metadata": {},
   "outputs": [
    {
     "ename": "NameError",
     "evalue": "name 'Error' is not defined",
     "output_type": "error",
     "traceback": [
      "\u001b[0;31m---------------------------------------------------------------------------\u001b[0m",
      "\u001b[0;31mFileNotFoundError\u001b[0m                         Traceback (most recent call last)",
      "Cell \u001b[0;32mIn[34], line 6\u001b[0m\n\u001b[1;32m      5\u001b[0m \u001b[38;5;28;01mtry\u001b[39;00m:\n\u001b[0;32m----> 6\u001b[0m     fout \u001b[38;5;241m=\u001b[39m \u001b[38;5;28;43mopen\u001b[39;49m\u001b[43m(\u001b[49m\u001b[38;5;124;43m\"\u001b[39;49m\u001b[38;5;124;43msample.txt\u001b[39;49m\u001b[38;5;124;43m\"\u001b[39;49m\u001b[43m,\u001b[49m\u001b[38;5;124;43m\"\u001b[39;49m\u001b[38;5;124;43mw\u001b[39;49m\u001b[38;5;124;43m\"\u001b[39;49m\u001b[43m)\u001b[49m \u001b[38;5;66;03m#buscar la ruta del fichero\u001b[39;00m\n\u001b[1;32m      7\u001b[0m     fout\u001b[38;5;241m.\u001b[39mwrite(texto)\n",
      "File \u001b[0;32m/anaconda/envs/azureml_py38/lib/python3.10/site-packages/IPython/core/interactiveshell.py:324\u001b[0m, in \u001b[0;36m_modified_open\u001b[0;34m(file, *args, **kwargs)\u001b[0m\n\u001b[1;32m    318\u001b[0m     \u001b[38;5;28;01mraise\u001b[39;00m \u001b[38;5;167;01mValueError\u001b[39;00m(\n\u001b[1;32m    319\u001b[0m         \u001b[38;5;124mf\u001b[39m\u001b[38;5;124m\"\u001b[39m\u001b[38;5;124mIPython won\u001b[39m\u001b[38;5;124m'\u001b[39m\u001b[38;5;124mt let you open fd=\u001b[39m\u001b[38;5;132;01m{\u001b[39;00mfile\u001b[38;5;132;01m}\u001b[39;00m\u001b[38;5;124m by default \u001b[39m\u001b[38;5;124m\"\u001b[39m\n\u001b[1;32m    320\u001b[0m         \u001b[38;5;124m\"\u001b[39m\u001b[38;5;124mas it is likely to crash IPython. If you know what you are doing, \u001b[39m\u001b[38;5;124m\"\u001b[39m\n\u001b[1;32m    321\u001b[0m         \u001b[38;5;124m\"\u001b[39m\u001b[38;5;124myou can use builtins\u001b[39m\u001b[38;5;124m'\u001b[39m\u001b[38;5;124m open.\u001b[39m\u001b[38;5;124m\"\u001b[39m\n\u001b[1;32m    322\u001b[0m     )\n\u001b[0;32m--> 324\u001b[0m \u001b[38;5;28;01mreturn\u001b[39;00m \u001b[43mio_open\u001b[49m\u001b[43m(\u001b[49m\u001b[43mfile\u001b[49m\u001b[43m,\u001b[49m\u001b[43m \u001b[49m\u001b[38;5;241;43m*\u001b[39;49m\u001b[43margs\u001b[49m\u001b[43m,\u001b[49m\u001b[43m \u001b[49m\u001b[38;5;241;43m*\u001b[39;49m\u001b[38;5;241;43m*\u001b[39;49m\u001b[43mkwargs\u001b[49m\u001b[43m)\u001b[49m\n",
      "\u001b[0;31mFileNotFoundError\u001b[0m: [Errno 2] No such file or directory: 'sample.txt'",
      "\nDuring handling of the above exception, another exception occurred:\n",
      "\u001b[0;31mNameError\u001b[0m                                 Traceback (most recent call last)",
      "Cell \u001b[0;32mIn[34], line 9\u001b[0m\n\u001b[1;32m      7\u001b[0m     fout\u001b[38;5;241m.\u001b[39mwrite(texto)\n\u001b[1;32m      8\u001b[0m     fout\u001b[38;5;241m.\u001b[39mclose()\n\u001b[0;32m----> 9\u001b[0m \u001b[38;5;28;01mexcept\u001b[39;00m \u001b[43mError\u001b[49m \u001b[38;5;28;01mas\u001b[39;00m err:\n\u001b[1;32m     10\u001b[0m     \u001b[38;5;28mprint\u001b[39m(\u001b[38;5;124m'\u001b[39m\u001b[38;5;124mProbelmas de accesoo al archivo\u001b[39m\u001b[38;5;124m'\u001b[39m,err)\n",
      "\u001b[0;31mNameError\u001b[0m: name 'Error' is not defined"
     ]
    }
   ],
   "source": [
    "texto=\"\"\"Este es un texto\n",
    "que contiene\n",
    "múltiples líneas\n",
    "\"\"\"\n",
    "try:\n",
    "    fout = open(\"sample.txt\",\"w\") #buscar la ruta del fichero\n",
    "    fout.write(texto)\n",
    "    fout.close()\n",
    "except Error as err:\n",
    "    print('Probelmas de accesoo al archivo',err)"
   ]
  },
  {
   "cell_type": "code",
   "execution_count": 35,
   "metadata": {},
   "outputs": [
    {
     "name": "stdout",
     "output_type": "stream",
     "text": [
      "/mnt/batch/tasks/shared/LS_root/mounts/clusters/patricia-oliva/code/Users/formacion.data12/pythonformacion\n"
     ]
    },
    {
     "ename": "NameError",
     "evalue": "name 'Error' is not defined",
     "output_type": "error",
     "traceback": [
      "\u001b[0;31m---------------------------------------------------------------------------\u001b[0m",
      "\u001b[0;31mFileNotFoundError\u001b[0m                         Traceback (most recent call last)",
      "Cell \u001b[0;32mIn[35], line 14\u001b[0m\n\u001b[1;32m     13\u001b[0m \u001b[38;5;28;01mtry\u001b[39;00m:\n\u001b[0;32m---> 14\u001b[0m     fout \u001b[38;5;241m=\u001b[39m \u001b[38;5;28;43mopen\u001b[39;49m\u001b[43m(\u001b[49m\u001b[38;5;124;43m\"\u001b[39;49m\u001b[38;5;124;43msample.txt\u001b[39;49m\u001b[38;5;124;43m\"\u001b[39;49m\u001b[43m,\u001b[49m\u001b[38;5;124;43m\"\u001b[39;49m\u001b[38;5;124;43mw\u001b[39;49m\u001b[38;5;124;43m\"\u001b[39;49m\u001b[43m)\u001b[49m \u001b[38;5;66;03m#buscar la ruta del fichero, que puede estar en cualquier parte, por eso se pondría la ruta completa\u001b[39;00m\n\u001b[1;32m     15\u001b[0m     fout\u001b[38;5;241m.\u001b[39mwrite(texto)\n",
      "File \u001b[0;32m/anaconda/envs/azureml_py38/lib/python3.10/site-packages/IPython/core/interactiveshell.py:324\u001b[0m, in \u001b[0;36m_modified_open\u001b[0;34m(file, *args, **kwargs)\u001b[0m\n\u001b[1;32m    318\u001b[0m     \u001b[38;5;28;01mraise\u001b[39;00m \u001b[38;5;167;01mValueError\u001b[39;00m(\n\u001b[1;32m    319\u001b[0m         \u001b[38;5;124mf\u001b[39m\u001b[38;5;124m\"\u001b[39m\u001b[38;5;124mIPython won\u001b[39m\u001b[38;5;124m'\u001b[39m\u001b[38;5;124mt let you open fd=\u001b[39m\u001b[38;5;132;01m{\u001b[39;00mfile\u001b[38;5;132;01m}\u001b[39;00m\u001b[38;5;124m by default \u001b[39m\u001b[38;5;124m\"\u001b[39m\n\u001b[1;32m    320\u001b[0m         \u001b[38;5;124m\"\u001b[39m\u001b[38;5;124mas it is likely to crash IPython. If you know what you are doing, \u001b[39m\u001b[38;5;124m\"\u001b[39m\n\u001b[1;32m    321\u001b[0m         \u001b[38;5;124m\"\u001b[39m\u001b[38;5;124myou can use builtins\u001b[39m\u001b[38;5;124m'\u001b[39m\u001b[38;5;124m open.\u001b[39m\u001b[38;5;124m\"\u001b[39m\n\u001b[1;32m    322\u001b[0m     )\n\u001b[0;32m--> 324\u001b[0m \u001b[38;5;28;01mreturn\u001b[39;00m \u001b[43mio_open\u001b[49m\u001b[43m(\u001b[49m\u001b[43mfile\u001b[49m\u001b[43m,\u001b[49m\u001b[43m \u001b[49m\u001b[38;5;241;43m*\u001b[39;49m\u001b[43margs\u001b[49m\u001b[43m,\u001b[49m\u001b[43m \u001b[49m\u001b[38;5;241;43m*\u001b[39;49m\u001b[38;5;241;43m*\u001b[39;49m\u001b[43mkwargs\u001b[49m\u001b[43m)\u001b[49m\n",
      "\u001b[0;31mFileNotFoundError\u001b[0m: [Errno 2] No such file or directory: 'sample.txt'",
      "\nDuring handling of the above exception, another exception occurred:\n",
      "\u001b[0;31mNameError\u001b[0m                                 Traceback (most recent call last)",
      "Cell \u001b[0;32mIn[35], line 17\u001b[0m\n\u001b[1;32m     15\u001b[0m     fout\u001b[38;5;241m.\u001b[39mwrite(texto)\n\u001b[1;32m     16\u001b[0m     fout\u001b[38;5;241m.\u001b[39mclose()\n\u001b[0;32m---> 17\u001b[0m \u001b[38;5;28;01mexcept\u001b[39;00m \u001b[43mError\u001b[49m \u001b[38;5;28;01mas\u001b[39;00m err:\n\u001b[1;32m     18\u001b[0m     \u001b[38;5;28mprint\u001b[39m(\u001b[38;5;124m'\u001b[39m\u001b[38;5;124mProbelmas de accesoo al archivo\u001b[39m\u001b[38;5;124m'\u001b[39m,err)\n",
      "\u001b[0;31mNameError\u001b[0m: name 'Error' is not defined"
     ]
    }
   ],
   "source": [
    "import os\n",
    "\n",
    "texto=\"\"\"Este es un texto\n",
    "que contiene\n",
    "múltiples líneas\n",
    "\"\"\"\n",
    "\n",
    "print(os.getcwd()) #nos da la ruta \n",
    "\n",
    "#Otra forma \n",
    "# definir variable bas_path = os.getcwd(), y usarla en la búsqueda rais = base_path+....(resto ruta)\n",
    "\n",
    "try:\n",
    "    fout = open(\"sample.txt\",\"w\") #buscar la ruta del fichero, que puede estar en cualquier parte, por eso se pondría la ruta completa\n",
    "    fout.write(texto)\n",
    "    fout.close()\n",
    "except Error as err:\n",
    "    print('Probelmas de accesoo al archivo',err)"
   ]
  },
  {
   "cell_type": "code",
   "execution_count": 36,
   "metadata": {},
   "outputs": [
    {
     "ename": "FileNotFoundError",
     "evalue": "[Errno 2] No such file or directory: 'sample.txt'",
     "output_type": "error",
     "traceback": [
      "\u001b[0;31m---------------------------------------------------------------------------\u001b[0m",
      "\u001b[0;31mFileNotFoundError\u001b[0m                         Traceback (most recent call last)",
      "Cell \u001b[0;32mIn[36], line 15\u001b[0m\n\u001b[1;32m      6\u001b[0m texto\u001b[38;5;241m=\u001b[39m\u001b[38;5;124m\"\"\"\u001b[39m\u001b[38;5;124mEste es un texto\u001b[39m\n\u001b[1;32m      7\u001b[0m \u001b[38;5;124mque contiene\u001b[39m\n\u001b[1;32m      8\u001b[0m \u001b[38;5;124mmúltiples líneas\u001b[39m\n\u001b[1;32m      9\u001b[0m \u001b[38;5;124motras líneas\u001b[39m\n\u001b[1;32m     10\u001b[0m \u001b[38;5;124m\"\"\"\u001b[39m\n\u001b[1;32m     12\u001b[0m \u001b[38;5;66;03m#Otra forma \u001b[39;00m\n\u001b[1;32m     13\u001b[0m \u001b[38;5;66;03m# definir variable bas_path = os.getcwd(), y usarla en la búsqueda rais = base_path+....(resto ruta)\u001b[39;00m\n\u001b[0;32m---> 15\u001b[0m f_out \u001b[38;5;241m=\u001b[39m \u001b[38;5;28;43mopen\u001b[39;49m\u001b[43m(\u001b[49m\u001b[38;5;124;43m\"\u001b[39;49m\u001b[38;5;124;43msample.txt\u001b[39;49m\u001b[38;5;124;43m\"\u001b[39;49m\u001b[43m,\u001b[49m\u001b[38;5;124;43m\"\u001b[39;49m\u001b[38;5;124;43mw\u001b[39;49m\u001b[38;5;124;43m\"\u001b[39;49m\u001b[43m)\u001b[49m \u001b[38;5;66;03m#buscar la ruta del fichero, que puede estar en cualquier parte, por eso se pondría la ruta completa\u001b[39;00m\n\u001b[1;32m     16\u001b[0m f_out\u001b[38;5;241m.\u001b[39mwrite(texto)\n\u001b[1;32m     17\u001b[0m f_out\u001b[38;5;241m.\u001b[39mclose()\n",
      "File \u001b[0;32m/anaconda/envs/azureml_py38/lib/python3.10/site-packages/IPython/core/interactiveshell.py:324\u001b[0m, in \u001b[0;36m_modified_open\u001b[0;34m(file, *args, **kwargs)\u001b[0m\n\u001b[1;32m    317\u001b[0m \u001b[38;5;28;01mif\u001b[39;00m file \u001b[38;5;129;01min\u001b[39;00m {\u001b[38;5;241m0\u001b[39m, \u001b[38;5;241m1\u001b[39m, \u001b[38;5;241m2\u001b[39m}:\n\u001b[1;32m    318\u001b[0m     \u001b[38;5;28;01mraise\u001b[39;00m \u001b[38;5;167;01mValueError\u001b[39;00m(\n\u001b[1;32m    319\u001b[0m         \u001b[38;5;124mf\u001b[39m\u001b[38;5;124m\"\u001b[39m\u001b[38;5;124mIPython won\u001b[39m\u001b[38;5;124m'\u001b[39m\u001b[38;5;124mt let you open fd=\u001b[39m\u001b[38;5;132;01m{\u001b[39;00mfile\u001b[38;5;132;01m}\u001b[39;00m\u001b[38;5;124m by default \u001b[39m\u001b[38;5;124m\"\u001b[39m\n\u001b[1;32m    320\u001b[0m         \u001b[38;5;124m\"\u001b[39m\u001b[38;5;124mas it is likely to crash IPython. If you know what you are doing, \u001b[39m\u001b[38;5;124m\"\u001b[39m\n\u001b[1;32m    321\u001b[0m         \u001b[38;5;124m\"\u001b[39m\u001b[38;5;124myou can use builtins\u001b[39m\u001b[38;5;124m'\u001b[39m\u001b[38;5;124m open.\u001b[39m\u001b[38;5;124m\"\u001b[39m\n\u001b[1;32m    322\u001b[0m     )\n\u001b[0;32m--> 324\u001b[0m \u001b[38;5;28;01mreturn\u001b[39;00m \u001b[43mio_open\u001b[49m\u001b[43m(\u001b[49m\u001b[43mfile\u001b[49m\u001b[43m,\u001b[49m\u001b[43m \u001b[49m\u001b[38;5;241;43m*\u001b[39;49m\u001b[43margs\u001b[49m\u001b[43m,\u001b[49m\u001b[43m \u001b[49m\u001b[38;5;241;43m*\u001b[39;49m\u001b[38;5;241;43m*\u001b[39;49m\u001b[43mkwargs\u001b[49m\u001b[43m)\u001b[49m\n",
      "\u001b[0;31mFileNotFoundError\u001b[0m: [Errno 2] No such file or directory: 'sample.txt'"
     ]
    }
   ],
   "source": [
    "#para copiar lo mismo más\n",
    "#append\n",
    "#para sobreescribir 'write'\n",
    "\n",
    "\n",
    "texto=\"\"\"Este es un texto\n",
    "que contiene\n",
    "múltiples líneas\n",
    "otras líneas\n",
    "\"\"\"\n",
    "\n",
    "#Otra forma \n",
    "# definir variable bas_path = os.getcwd(), y usarla en la búsqueda rais = base_path+....(resto ruta)\n",
    "\n",
    "f_out = open(\"sample.txt\",\"w\") #buscar la ruta del fichero, que puede estar en cualquier parte, por eso se pondría la ruta completa\n",
    "f_out.write(texto)\n",
    "f_out.close()\n",
    "\n",
    "# Para encontrar la ruta real de un archivo\n",
    "#dir_path = os.path.dirname(os.path.realpath('/home/azureuser/cloudfiles/code/Users/ricardo/pythonfundamentals/'))"
   ]
  },
  {
   "cell_type": "code",
   "execution_count": 37,
   "metadata": {},
   "outputs": [
    {
     "name": "stdout",
     "output_type": "stream",
     "text": [
      "Este es un texto\n",
      "que contiene\n",
      "múltiples líneas\n",
      "otras líneas\n"
     ]
    }
   ],
   "source": [
    "#Abrir archvo para lectura\n",
    "try:\n",
    "    f_in = open(\"sample.txt\",\"r\") \n",
    "    \n",
    "    for line in f_in:\n",
    "        print(line.rstrip()) # Para eliminar el salto de línea\n",
    "\n",
    "except Error as err:  \n",
    "    print('problema con acceso al archivo',err)"
   ]
  },
  {
   "cell_type": "code",
   "execution_count": 38,
   "metadata": {},
   "outputs": [
    {
     "name": "stdout",
     "output_type": "stream",
     "text": [
      "['Este es un texto\\n', 'que contiene\\n', 'múltiples líneas\\n', 'otras líneas\\n']\n"
     ]
    }
   ],
   "source": [
    "#Abrir archvo para lectura de algunas en lista\n",
    "try:\n",
    "    lista = open(\"sample.txt\",\"r\").readlines()\n",
    "    print(lista)\n",
    "    \n",
    "\n",
    "except Error as err:  \n",
    "    print('problema con acceso al archivo',err)"
   ]
  },
  {
   "cell_type": "code",
   "execution_count": 39,
   "metadata": {},
   "outputs": [
    {
     "name": "stdout",
     "output_type": "stream",
     "text": [
      "['Este es un texto', 'que contiene', 'múltiples líneas', 'otras líneas']\n"
     ]
    }
   ],
   "source": [
    "#Abrir archvo para lectura de algunas en lista\n",
    "try:\n",
    "    lista = open(\"sample.txt\",\"r\").readlines()\n",
    "    lista_limpia =list(map(lambda l:l.rstrip(),lista))\n",
    "    print(lista_limpia)\n",
    "    \n",
    "\n",
    "except Error as err:  \n",
    "    print('problema con acceso al archivo',err)"
   ]
  },
  {
   "cell_type": "code",
   "execution_count": 31,
   "metadata": {},
   "outputs": [
    {
     "name": "stdout",
     "output_type": "stream",
     "text": [
      "Este es un texto\n",
      "que contiene\n",
      "múltiples líneas\n",
      "otras líneas\n",
      "\n"
     ]
    }
   ],
   "source": [
    "#Lectura del archivo tal como se ha creado\n",
    "\n",
    "try:\n",
    "    texto = open(\"sample.txt\",\"r\").read()\n",
    "    print(texto)\n",
    "    \n",
    "\n",
    "except Error as err:  \n",
    "    print('problema con acceso al archivo',err)"
   ]
  },
  {
   "cell_type": "code",
   "execution_count": 41,
   "metadata": {},
   "outputs": [
    {
     "ename": "FileNotFoundError",
     "evalue": "[Errno 2] No such file or directory: 'sample.txt'",
     "output_type": "error",
     "traceback": [
      "\u001b[0;31m---------------------------------------------------------------------------\u001b[0m",
      "\u001b[0;31mFileNotFoundError\u001b[0m                         Traceback (most recent call last)",
      "Cell \u001b[0;32mIn[41], line 9\u001b[0m\n\u001b[1;32m      6\u001b[0m isOk \u001b[38;5;241m=\u001b[39m os\u001b[38;5;241m.\u001b[39mpath\u001b[38;5;241m.\u001b[39misfile(\u001b[38;5;124m\"\u001b[39m\u001b[38;5;124msample.txt\u001b[39m\u001b[38;5;124m\"\u001b[39m)\n\u001b[1;32m      8\u001b[0m \u001b[38;5;28;01mif\u001b[39;00m isOk:\n\u001b[0;32m----> 9\u001b[0m     \u001b[43mos\u001b[49m\u001b[38;5;241;43m.\u001b[39;49m\u001b[43mremove\u001b[49m\u001b[43m(\u001b[49m\u001b[43mf_path\u001b[49m\u001b[43m)\u001b[49m\n\u001b[1;32m     10\u001b[0m     \u001b[38;5;28mprint\u001b[39m(\u001b[38;5;124m'\u001b[39m\u001b[38;5;124mBorrado\u001b[39m\u001b[38;5;124m'\u001b[39m)\n\u001b[1;32m     11\u001b[0m \u001b[38;5;28;01melse\u001b[39;00m:\n",
      "\u001b[0;31mFileNotFoundError\u001b[0m: [Errno 2] No such file or directory: 'sample.txt'"
     ]
    }
   ],
   "source": [
    "# os.remove()\n",
    "# os.rmdir()\n",
    "\n",
    "dir_path= os.path.realpath(\"sample.txt\")\n",
    "\n",
    "isOk = os.path.isfile(\"sample.txt\")\n",
    "\n",
    "if isOk:\n",
    "    os.remove(f_path)\n",
    "    print('Borrado')\n",
    "else:\n",
    "    print('No existe')"
   ]
  },
  {
   "cell_type": "markdown",
   "metadata": {},
   "source": [
    "###EJERCICIOS PRÁCTICA"
   ]
  },
  {
   "cell_type": "code",
   "execution_count": 44,
   "metadata": {},
   "outputs": [],
   "source": [
    "\n",
    "#EJERCICIOS 6\n",
    "#- Procesa el fichero notas.csv para completarlo con la nota media y varianza de cada alumno, usando funciones estadísticas. Luego actualiza el fichero original\n",
    "# https://raw.githubusercontent.com/ricardoahumada/pythonfundamentals/refs/heads/main/data/notas.csv\n",
    "#Escribe una función que copie el contenido de un archivo textual \"{ruta_a}/sample.txt\" en otro \"{ruta_a}/new.txt\". Luego muestra el contenido de new.txt línea por línea. Por último, elimina new.txt\n"
   ]
  },
  {
   "cell_type": "markdown",
   "metadata": {},
   "source": [
    "Name,maths,lang\n",
    "Sosanna,4,5\n",
    "Rosalind,8,5\n",
    "Gaspar,1,5\n",
    "Herve,2,2\n",
    "Jayme,5,7\n",
    "Dasya,5,2\n",
    "Christean,2,6\n",
    "Risa,9,7\n",
    "Florenza,10,5\n",
    "Donella,10,3\n",
    "Cesaro,2,7\n",
    "Beatrisa,9,5\n",
    "Thain,1,3\n",
    "Shaylah,6,1\n",
    "Anne-marie,4,3\n",
    "Swen,8,6\n",
    "Vaclav,1,10\n",
    "Hermine,2,1\n",
    "Sybyl,10,10\n",
    "Ynes,6,2\n",
    "Antonie,9,9\n",
    "Trixie,9,4\n",
    "Mathilde,4,1\n",
    "Merlina,6,6\n",
    "Zared,1,3\n",
    "Brandais,3,1\n",
    "Reggie,10,8\n",
    "Burk,8,5\n",
    "Seymour,5,3\n",
    "Fergus,2,5\n",
    "Jeanette,1,4\n",
    "Arther,5,5\n",
    "Avictor,9,5\n",
    "Lynette,7,6\n",
    "Briano,2,6\n",
    "Daveta,4,9\n",
    "Devonne,10,8\n",
    "Chiarra,6,3\n",
    "Torrey,2,3\n",
    "Hattie,2,2\n",
    "Florenza,10,4\n",
    "Veronica,8,4\n",
    "Jared,6,3\n",
    "Lori,6,10\n",
    "Kristopher,1,9\n",
    "Jeanne,1,4\n",
    "Maximilian,3,9\n",
    "Merrily,5,3\n",
    "Skipton,9,9\n",
    "Tom,10,7\n",
    "Cirilo,2,6\n",
    "Warde,8,5\n",
    "Woodie,10,1\n",
    "Odetta,3,9\n",
    "Cordelie,2,1\n",
    "Wilow,10,6\n",
    "Charissa,5,10\n",
    "Ralina,10,2\n",
    "Charisse,6,9\n",
    "Huntley,8,3\n",
    "Ella,4,8\n",
    "Nelli,2,10\n",
    "Gearalt,4,4\n",
    "Zahara,2,4\n",
    "Dilan,8,6\n",
    "Frederique,5,8\n",
    "Saba,9,9\n",
    "Natalya,1,2\n",
    "Myrah,3,5\n",
    "Magnum,7,9\n",
    "Grace,9,6\n",
    "Ilysa,10,8\n",
    "Clerkclaude,7,2\n",
    "Yetty,8,4\n",
    "Cassandre,6,5\n",
    "Olympie,3,3\n",
    "Joshuah,7,2\n",
    "Kristine,3,7\n",
    "Dean,8,10\n",
    "Ilyssa,9,3\n",
    "Nannie,6,10\n",
    "Feodor,5,7\n",
    "Guglielma,10,6\n",
    "Alla,9,7\n",
    "Rowland,4,7\n",
    "Miquela,7,7\n",
    "Sapphira,4,2\n",
    "Zorina,3,9\n",
    "Rosemonde,10,9\n",
    "Alisa,1,5\n",
    "Ginger,3,2\n",
    "Karlis,9,1\n",
    "Robbin,7,8\n",
    "Kimberly,3,1\n",
    "Udale,7,7\n",
    "Isidor,8,3\n",
    "Farlee,5,9\n",
    "Katleen,8,3\n",
    "Nanine,5,9\n",
    "Marlow,2,2"
   ]
  },
  {
   "cell_type": "code",
   "execution_count": 50,
   "metadata": {},
   "outputs": [
    {
     "name": "stdout",
     "output_type": "stream",
     "text": [
      "Fichero guardado como notas_actualizado.csv\n"
     ]
    },
    {
     "name": "stderr",
     "output_type": "stream",
     "text": [
      "/tmp/ipykernel_30995/1595933379.py:16: FutureWarning: Dropping of nuisance columns in DataFrame reductions (with 'numeric_only=None') is deprecated; in a future version this will raise TypeError.  Select only valid columns before calling the reduction.\n",
      "  lista_alumnos['Nota Media'] = lista_alumnos.mean(axis=1)\n",
      "/tmp/ipykernel_30995/1595933379.py:17: FutureWarning: Dropping of nuisance columns in DataFrame reductions (with 'numeric_only=None') is deprecated; in a future version this will raise TypeError.  Select only valid columns before calling the reduction.\n",
      "  lista_alumnos['Varianza'] = lista_alumnos.var(axis=1)\n"
     ]
    }
   ],
   "source": [
    "import pandas as pd\n",
    "import numpy as np\n",
    "import io\n",
    "import requests\n",
    "\n",
    "\n",
    "def leer_fichero_csv(url):\n",
    "    #\"\"\"Lee el fichero CSV desde la URL y devuelve un DataFrame de pandas.\"\"\"\n",
    "    response = requests.get(url)\n",
    "    data = response.text\n",
    "    lista_alumnos = pd.read_csv(io.StringIO(data))\n",
    "    return lista_alumnos\n",
    "\n",
    "def calcular_estadisticas(lista_alumnos):\n",
    "    #\"\"\"Calcula la nota media y la varianza para cada alumno y añade las columnas al DataFrame.\"\"\"\n",
    "    lista_alumnos['Nota Media'] = lista_alumnos.mean(axis=1)\n",
    "    lista_alumnos['Varianza'] = lista_alumnos.var(axis=1)\n",
    "    return lista_alumnos\n",
    "\n",
    "def guardar_fichero_csv(lista_alumnos, nombre_fichero):\n",
    "    #\"\"\"Guarda el DataFrame actualizado en un fichero CSV.\"\"\"\n",
    "    lista_alumnos.to_csv(nombre_fichero, index=False)\n",
    "    print(f\"Fichero guardado como {nombre_fichero}\")\n",
    "\n",
    "def main():\n",
    "    url = 'https://raw.githubusercontent.com/ricardoahumada/pythonfundamentals/refs/heads/main/data/notas.csv'\n",
    "    nombre_fichero_actualizado = 'notas_actualizado.csv'\n",
    "    \n",
    "    # Leer el fichero CSV\n",
    "    lista_alumnos = leer_fichero_csv(url)\n",
    "    \n",
    "    # Calcular la nota media y la varianza\n",
    "    lista_alumnos = calcular_estadisticas(lista_alumnos)\n",
    "    \n",
    "    # Guardar el DataFrame actualizado en el fichero original\n",
    "    guardar_fichero_csv(lista_alumnos, nombre_fichero_actualizado)\n",
    "\n",
    "if __name__ == \"__main__\":\n",
    "    main()\n"
   ]
  },
  {
   "cell_type": "code",
   "execution_count": 55,
   "metadata": {},
   "outputs": [
    {
     "ename": "SyntaxError",
     "evalue": "invalid syntax (4059016174.py, line 5)",
     "output_type": "error",
     "traceback": [
      "\u001b[0;36m  Cell \u001b[0;32mIn[55], line 5\u001b[0;36m\u001b[0m\n\u001b[0;31m    def copiar_archivo(\"/home/azureuser/cloudfiles/code/Users/formacion.data12/pythonformacion/carpeta_practicas\"):\u001b[0m\n\u001b[0m                       ^\u001b[0m\n\u001b[0;31mSyntaxError\u001b[0m\u001b[0;31m:\u001b[0m invalid syntax\n"
     ]
    }
   ],
   "source": [
    "#Escribe una función que copie el contenido de un archivo textual \"{ruta_a}/sample.txt\" en otro \"{ruta_a}/new.txt\". Luego muestra el contenido de new.txt línea por línea. Por último, elimina new.txt\n",
    "\n",
    "import os\n",
    "\n",
    "def copiar_archivo(\"/home/azureuser/cloudfiles/code/Users/formacion.data12/pythonformacion/carpeta_practicas\"):\n",
    "    archivo_origen = os.path.join(\"/home/azureuser/cloudfiles/code/Users/formacion.data12/pythonformacion/carpeta_practicas\", 'sample.txt')\n",
    "    archivo_destino = os.path.join(\"/home/azureuser/cloudfiles/code/Users/formacion.data12/pythonformacion/carpeta_practicas\", 'new.txt')\n",
    "    \n",
    "    # Copiar el contenido de sample.txt a new.txt\n",
    "    with open(archivo_origen, 'r') as f_origen:\n",
    "        with open(archivo_destino, 'w') as f_destino:\n",
    "            for linea in f_origen:\n",
    "                f_destino.write(linea)\n",
    "    \n",
    "    # Mostrar el contenido de new.txt línea por línea\n",
    "    with open(archivo_destino, 'r') as f_destino:\n",
    "        for linea in f_destino:\n",
    "            print(linea, end='')\n",
    "    \n",
    "    # Eliminar new.txt\n",
    "    #os.remove(archivo_destino)\n",
    "    #print(\"\\nnew.txt ha sido eliminado.\")\n",
    "\n",
    "# Ejemplo de uso\n",
    "#\"/home/azureuser/cloudfiles/code/Users/formacion.data12/pythonformacion/carpeta_practicas\" = 'ruta/a/tu/carpeta'\n",
    "#copiar_archivo(\"/home/azureuser/cloudfiles/code/Users/formacion.data12/pythonformacion/carpeta_practicas\")\n"
   ]
  },
  {
   "cell_type": "markdown",
   "metadata": {},
   "source": [
    "# Soluciones profe"
   ]
  },
  {
   "cell_type": "code",
   "execution_count": null,
   "metadata": {},
   "outputs": [],
   "source": [
    "#- Procesa el fichero notas.csv para completarlo con la nota media y varianza de cada alumno, usando funciones estadísticas. Luego actualiza el fichero original\n",
    "# https://raw.githubusercontent.com/ricardoahumada/pythonfundamentals/refs/heads/main/data/notas.csv\n",
    "\n",
    "#Generar nuevas notas: \n",
    "#VAR lista = leer fichero\n",
    "#VAR lista_actualizada = []\n",
    "    #Leer fichero en lista\n",
    "        # Para cada fila en lista:\n",
    "        #Si primera_fila:\n",
    "            #Añadir fila cabecera\n",
    "        #Si no:\n",
    "            #Calcular media y varianza (desv standard)\n",
    "            #Actualizar lista\n",
    "            #Añadir a lista actualizada fila\n",
    "            #Añadir a lista actualizada media y desv standard\n",
    "\n"
   ]
  }
 ],
 "metadata": {
  "kernelspec": {
   "display_name": "Python 3.8 - AzureML",
   "language": "python",
   "name": "python38-azureml"
  },
  "language_info": {
   "codemirror_mode": {
    "name": "ipython",
    "version": 3
   },
   "file_extension": ".py",
   "mimetype": "text/x-python",
   "name": "python",
   "nbconvert_exporter": "python",
   "pygments_lexer": "ipython3",
   "version": "3.10.11"
  }
 },
 "nbformat": 4,
 "nbformat_minor": 2
}
