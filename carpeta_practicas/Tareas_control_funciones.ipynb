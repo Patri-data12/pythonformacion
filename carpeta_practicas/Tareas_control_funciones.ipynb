{
 "cells": [
  {
   "cell_type": "code",
   "execution_count": 1,
   "metadata": {},
   "outputs": [],
   "source": [
    "#EJERCICIOS CONTROL Y FUNCIONES"
   ]
  },
  {
   "cell_type": "code",
   "execution_count": 7,
   "metadata": {},
   "outputs": [
    {
     "name": "stdout",
     "output_type": "stream",
     "text": [
      "1505\n",
      "1540\n",
      "1575\n",
      "1610\n",
      "1645\n",
      "1680\n",
      "1715\n",
      "1750\n",
      "1785\n",
      "1820\n",
      "1855\n",
      "1890\n",
      "1925\n",
      "1960\n",
      "1995\n",
      "2030\n",
      "2065\n",
      "2100\n",
      "2135\n",
      "2170\n",
      "2205\n",
      "2240\n",
      "2275\n",
      "2310\n",
      "2345\n",
      "2380\n",
      "2415\n",
      "2450\n",
      "2485\n",
      "2520\n",
      "2555\n",
      "2590\n",
      "2625\n",
      "2660\n",
      "2695\n"
     ]
    }
   ],
   "source": [
    "# 1. Escribe una función para encontrar los números que son divisibles por 7 y múltiplos de 5, entre 1500 y 2700 (ambos incluidos).\n",
    "\n",
    "inicio = 1500\n",
    "fin = 2700\n",
    "\n",
    "list_num = list(range(inicio,fin + 1))\n",
    "\n",
    "list_num\n",
    "\n",
    "for num in list_num:\n",
    "    if num % 7 == 0 and num % 5 == 0:\n",
    "        print(num)"
   ]
  },
  {
   "cell_type": "code",
   "execution_count": null,
   "metadata": {},
   "outputs": [
    {
     "name": "stdout",
     "output_type": "stream",
     "text": [
      "La temperatura en farenheit es:  7\n"
     ]
    },
    {
     "ename": "NameError",
     "evalue": "name 'cels' is not defined",
     "output_type": "error",
     "traceback": [
      "\u001b[0;31m---------------------------------------------------------------------------\u001b[0m",
      "\u001b[0;31mNameError\u001b[0m                                 Traceback (most recent call last)",
      "Cell \u001b[0;32mIn[25], line 19\u001b[0m\n\u001b[1;32m     16\u001b[0m     cels \u001b[38;5;241m=\u001b[39m (f\u001b[38;5;241m-\u001b[39m\u001b[38;5;241m32\u001b[39m)\u001b[38;5;241m*\u001b[39m\u001b[38;5;241m5\u001b[39m\u001b[38;5;241m/\u001b[39m\u001b[38;5;241m9\u001b[39m\n\u001b[1;32m     18\u001b[0m \u001b[38;5;28mprint\u001b[39m(\u001b[38;5;124mf\u001b[39m\u001b[38;5;124m'\u001b[39m\u001b[38;5;124mLa temperatura en farenheit es: \u001b[39m\u001b[38;5;124m'\u001b[39m, farenheit)\n\u001b[0;32m---> 19\u001b[0m \u001b[38;5;28mprint\u001b[39m(\u001b[38;5;124mf\u001b[39m\u001b[38;5;124m'\u001b[39m\u001b[38;5;124mLa temperatura en farenheit es: \u001b[39m\u001b[38;5;124m'\u001b[39m, \u001b[43mcels\u001b[49m)\n",
      "\u001b[0;31mNameError\u001b[0m: name 'cels' is not defined"
     ]
    }
   ],
   "source": [
    "# Escribe una función para convertir temperaturas entre Celsius y Fahrenheit.\n",
    "#[Fórmula: c/5 = f-32/9 [donde c = temperatura en grados Celsius y f = temperatura en grados Fahrenheit]\n",
    "#Resultado esperado:\n",
    "#60 °C es 140 en grados Fahrenheit\n",
    "#45 °F es 7 en grados Celsius\n",
    "\n",
    "celsius = int(input('Introduce una temperatura en celsius: '))\n",
    "\n",
    "def temperatura_en_farenheit (celsius):\n",
    "    farenheit = (celsius+32)*9/5\n",
    "\n",
    "\n",
    "faren = int(input('Y ahora introduce Farenheit para obetener Celsius: '))\n",
    "\n",
    "def temperatura_en_celsius (faren):\n",
    "    cels = (f-32)*5/9\n",
    "\n",
    "print(f'La temperatura en farenheit es: ', farenheit)\n",
    "print(f'La temperatura en farenheit es: ', cels)\n",
    "\n",
    "#NO me sale solo\n"
   ]
  },
  {
   "cell_type": "code",
   "execution_count": 2,
   "metadata": {},
   "outputs": [
    {
     "name": "stdout",
     "output_type": "stream",
     "text": [
      "60 °C es 140.0 en grados Fahrenheit\n",
      "45 °F es 7.2 en grados Celsius\n"
     ]
    }
   ],
   "source": [
    "def celsius_a_fahrenheit(celsius):\n",
    "    \"\"\"Convierte una temperatura de Celsius a Fahrenheit.\"\"\"\n",
    "    fahrenheit = (celsius * 9/5) + 32\n",
    "    return fahrenheit\n",
    "\n",
    "def fahrenheit_a_celsius(fahrenheit):\n",
    "    \"\"\"Convierte una temperatura de Fahrenheit a Celsius.\"\"\"\n",
    "    celsius = (fahrenheit - 32) * 5/9\n",
    "    return celsius\n",
    "\n",
    "# Ejemplos de uso\n",
    "celsius = 60\n",
    "fahrenheit = celsius_a_fahrenheit(celsius)\n",
    "print(f\"{celsius} °C es {fahrenheit:.1f} en grados Fahrenheit\")\n",
    "\n",
    "fahrenheit = 45\n",
    "celsius = fahrenheit_a_celsius(fahrenheit)\n",
    "print(f\"{fahrenheit} °F es {celsius:.1f} en grados Celsius\")"
   ]
  },
  {
   "cell_type": "code",
   "execution_count": 16,
   "metadata": {},
   "outputs": [],
   "source": [
    "#3. Escribe una función para adivinar un número entre 1 y 9.\n",
    "#Nota: Se le solicita al usuario que ingrese una hipótesis (número). \n",
    "#Si la hipótesis es incorrecta, el mensaje aparece nuevamente hasta que la hipótesis sea correcta. \n",
    "#Si la hipótesis es correcta, el usuario recibirá un mensaje que indica \"¡Bien adivinado!\" y el programa se cerrará.\n",
    "\n",
    "num_adiv = 6\n",
    "pedir_num = int(input('Escoge un número de 1 a 9: '))\n",
    "def adivinar_num (pedir_num):\n",
    "    while pedir_num != num_adiv:\n",
    "        return pedir_num\n",
    "    else:\n",
    "        print('¡Bien adivinado!')"
   ]
  },
  {
   "cell_type": "code",
   "execution_count": 17,
   "metadata": {},
   "outputs": [
    {
     "name": "stdout",
     "output_type": "stream",
     "text": [
      "Incorrecto, intenta nuevamente.\n",
      "Incorrecto, intenta nuevamente.\n",
      "Incorrecto, intenta nuevamente.\n",
      "Incorrecto, intenta nuevamente.\n",
      "Incorrecto, intenta nuevamente.\n",
      "¡Bien adivinado!\n"
     ]
    }
   ],
   "source": [
    "#solucion copilot\n",
    "\n",
    "import random\n",
    "\n",
    "def adivinar_numero():\n",
    "    # Generar un número aleatorio entre 1 y 9\n",
    "    numero_correcto = random.randint(1, 9)\n",
    "    \n",
    "    while True:\n",
    "        # Solicitar al usuario que ingrese un número\n",
    "        try:\n",
    "            numero_usuario = int(input(\"Adivina un número entre 1 y 9: \"))\n",
    "        except ValueError:\n",
    "            print(\"Por favor, ingresa un número válido.\")\n",
    "            continue\n",
    "        \n",
    "        # Verificar si la hipótesis es correcta\n",
    "        if numero_usuario == numero_correcto:\n",
    "            print(\"¡Bien adivinado!\")\n",
    "            break\n",
    "        else:\n",
    "            print(\"Incorrecto, intenta nuevamente.\")\n",
    "\n",
    "# Llamar a la función para iniciar el juego\n",
    "adivinar_numero()\n",
    "\n"
   ]
  },
  {
   "cell_type": "code",
   "execution_count": null,
   "metadata": {},
   "outputs": [],
   "source": [
    "#Ejercicio 4: Escribe una función para construir el siguiente patrón, utilizando un bucle for anidado.\n",
    "#*\n",
    "#* *\n",
    "#* * *\n",
    "#* * * *\n",
    "#* * * * *\n",
    "#* * * *\n",
    "#* * *\n",
    "#* *\n",
    "#*\n"
   ]
  }
 ],
 "metadata": {
  "kernelspec": {
   "display_name": "Python 3.8 - Pytorch and Tensorflow",
   "language": "python",
   "name": "python38-azureml-pt-tf"
  },
  "language_info": {
   "codemirror_mode": {
    "name": "ipython",
    "version": 3
   },
   "file_extension": ".py",
   "mimetype": "text/x-python",
   "name": "python",
   "nbconvert_exporter": "python",
   "pygments_lexer": "ipython3",
   "version": "3.10.14"
  }
 },
 "nbformat": 4,
 "nbformat_minor": 2
}
