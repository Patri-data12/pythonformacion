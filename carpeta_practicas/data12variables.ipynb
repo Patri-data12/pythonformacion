{
 "cells": [
  {
   "cell_type": "code",
   "execution_count": 1,
   "metadata": {},
   "outputs": [
    {
     "name": "stdout",
     "output_type": "stream",
     "text": [
      "hola mundo!!\n",
      "como estais???\n"
     ]
    }
   ],
   "source": [
    "print (\"hola mundo!!\")\n",
    "print (\"como estais???\")"
   ]
  },
  {
   "cell_type": "code",
   "execution_count": 3,
   "metadata": {},
   "outputs": [
    {
     "name": "stdout",
     "output_type": "stream",
     "text": [
      "3\n",
      "El texto se escribe entre comillas simples o dobles\n"
     ]
    }
   ],
   "source": [
    "num1 = 3\n",
    "text = \"El texto se escribe entre comillas simples o dobles\"\n",
    "\n",
    "print (num1)\n",
    "print(text)"
   ]
  },
  {
   "cell_type": "code",
   "execution_count": 4,
   "metadata": {},
   "outputs": [
    {
     "data": {
      "text/plain": [
       "str"
      ]
     },
     "execution_count": 4,
     "metadata": {},
     "output_type": "execute_result"
    }
   ],
   "source": [
    "type (text)"
   ]
  },
  {
   "cell_type": "code",
   "execution_count": 5,
   "metadata": {},
   "outputs": [
    {
     "name": "stdout",
     "output_type": "stream",
     "text": [
      "6\n"
     ]
    }
   ],
   "source": [
    "resultado = num1 + num1\n",
    "print(resultado)\n"
   ]
  },
  {
   "cell_type": "code",
   "execution_count": 6,
   "metadata": {},
   "outputs": [
    {
     "ename": "TypeError",
     "evalue": "unsupported operand type(s) for +: 'int' and 'str'",
     "output_type": "error",
     "traceback": [
      "\u001b[0;31m---------------------------------------------------------------------------\u001b[0m",
      "\u001b[0;31mTypeError\u001b[0m                                 Traceback (most recent call last)",
      "Cell \u001b[0;32mIn[6], line 1\u001b[0m\n\u001b[0;32m----> 1\u001b[0m reusltado \u001b[38;5;241m=\u001b[39m \u001b[43mnum1\u001b[49m\u001b[43m \u001b[49m\u001b[38;5;241;43m+\u001b[39;49m\u001b[43m \u001b[49m\u001b[43mtext\u001b[49m\n\u001b[1;32m      2\u001b[0m resultado\n",
      "\u001b[0;31mTypeError\u001b[0m: unsupported operand type(s) for +: 'int' and 'str'"
     ]
    }
   ],
   "source": [
    "reusltado = num1 + text\n",
    "resultado"
   ]
  },
  {
   "cell_type": "code",
   "execution_count": null,
   "metadata": {},
   "outputs": [
    {
     "data": {
      "text/plain": [
       "bool"
      ]
     },
     "execution_count": 15,
     "metadata": {},
     "output_type": "execute_result"
    }
   ],
   "source": [
    "booleano = True\n",
    "type (booleano)"
   ]
  },
  {
   "cell_type": "code",
   "execution_count": null,
   "metadata": {},
   "outputs": [
    {
     "name": "stdout",
     "output_type": "stream",
     "text": [
      "(3+4j)\n"
     ]
    },
    {
     "data": {
      "text/plain": [
       "complex"
      ]
     },
     "execution_count": 20,
     "metadata": {},
     "output_type": "execute_result"
    }
   ],
   "source": [
    "complejo = 3 + 4j\n",
    "print (complejo)\n",
    "type (complejo)\n"
   ]
  },
  {
   "cell_type": "code",
   "execution_count": null,
   "metadata": {},
   "outputs": [
    {
     "data": {
      "text/plain": [
       "float"
      ]
     },
     "execution_count": 22,
     "metadata": {},
     "output_type": "execute_result"
    }
   ],
   "source": [
    "decimal = 2.4\n",
    "type(decimal)"
   ]
  },
  {
   "cell_type": "code",
   "execution_count": null,
   "metadata": {},
   "outputs": [
    {
     "name": "stdout",
     "output_type": "stream",
     "text": [
      "el valor del número complejo es (3+4j)\n"
     ]
    }
   ],
   "source": [
    "print (\"el valor del número complejo es\", complejo)"
   ]
  },
  {
   "cell_type": "code",
   "execution_count": null,
   "metadata": {},
   "outputs": [
    {
     "name": "stdout",
     "output_type": "stream",
     "text": [
      "El usuario ha escrito 59\n"
     ]
    },
    {
     "data": {
      "text/plain": [
       "int"
      ]
     },
     "execution_count": 6,
     "metadata": {},
     "output_type": "execute_result"
    }
   ],
   "source": [
    "entrada = int(input (\"Escribo un numero para que aparezca\"))\n",
    "print (\"El usuario ha escrito\",entrada)\n",
    "type (entrada)"
   ]
  },
  {
   "cell_type": "code",
   "execution_count": null,
   "metadata": {},
   "outputs": [
    {
     "data": {
      "text/plain": [
       "list"
      ]
     },
     "execution_count": 8,
     "metadata": {},
     "output_type": "execute_result"
    }
   ],
   "source": [
    "unaLista = [2,5,6,7,812,45,678]\n",
    "type(unaLista)"
   ]
  },
  {
   "cell_type": "code",
   "execution_count": null,
   "metadata": {},
   "outputs": [
    {
     "name": "stdout",
     "output_type": "stream",
     "text": [
      "['texto', 6, True]\n",
      "812\n"
     ]
    }
   ],
   "source": [
    "cajondesastre = [\"texto\", 6, True]\n",
    "print(cajondesastre)\n",
    "print (unaLista[4])"
   ]
  },
  {
   "cell_type": "code",
   "execution_count": null,
   "metadata": {},
   "outputs": [
    {
     "name": "stdout",
     "output_type": "stream",
     "text": [
      "[2, 5, 6, 7, 'numeritos', 45, 678]\n"
     ]
    }
   ],
   "source": [
    "unaLista[4] = \"numeritos\"\n",
    "print(unaLista)"
   ]
  },
  {
   "cell_type": "code",
   "execution_count": null,
   "metadata": {},
   "outputs": [
    {
     "name": "stdout",
     "output_type": "stream",
     "text": [
      "('txto', 4, True, 45)\n",
      "45\n"
     ]
    }
   ],
   "source": [
    "unatupla = (\"txto\", 4, True, 45)\n",
    "print (unatupla)\n",
    "print (unatupla[3])\n"
   ]
  },
  {
   "cell_type": "code",
   "execution_count": null,
   "metadata": {},
   "outputs": [
    {
     "ename": "TypeError",
     "evalue": "'tuple' object does not support item assignment",
     "output_type": "error",
     "traceback": [
      "\u001b[0;31m---------------------------------------------------------------------------\u001b[0m",
      "\u001b[0;31mTypeError\u001b[0m                                 Traceback (most recent call last)",
      "Cell \u001b[0;32mIn[26], line 1\u001b[0m\n\u001b[0;32m----> 1\u001b[0m \u001b[43munatupla\u001b[49m\u001b[43m[\u001b[49m\u001b[38;5;241;43m2\u001b[39;49m\u001b[43m]\u001b[49m \u001b[38;5;241m=\u001b[39m \u001b[38;5;124m\"\u001b[39m\u001b[38;5;124mnumeritos\u001b[39m\u001b[38;5;124m\"\u001b[39m\n",
      "\u001b[0;31mTypeError\u001b[0m: 'tuple' object does not support item assignment"
     ]
    }
   ],
   "source": [
    "unatupla[2] = \"numeritos\""
   ]
  },
  {
   "cell_type": "code",
   "execution_count": null,
   "metadata": {},
   "outputs": [
    {
     "data": {
      "text/plain": [
       "('txto', 4)"
      ]
     },
     "execution_count": 30,
     "metadata": {},
     "output_type": "execute_result"
    }
   ],
   "source": [
    "unatupla[0:2]"
   ]
  },
  {
   "cell_type": "code",
   "execution_count": null,
   "metadata": {},
   "outputs": [
    {
     "data": {
      "text/plain": [
       "set"
      ]
     },
     "execution_count": 32,
     "metadata": {},
     "output_type": "execute_result"
    }
   ],
   "source": [
    "conjunto = {\"texto\",45,\"que\",66}\n",
    "type (conjunto)"
   ]
  },
  {
   "cell_type": "code",
   "execution_count": null,
   "metadata": {},
   "outputs": [
    {
     "name": "stdout",
     "output_type": "stream",
     "text": [
      "{'texo': 'es texto', 'num': 66, 'booleano': False}\n"
     ]
    }
   ],
   "source": [
    "diccionario = {\"texo\":\"es texto\", \"num\":66, \"booleano\":False}\n",
    "print(diccionario)\n"
   ]
  },
  {
   "cell_type": "code",
   "execution_count": null,
   "metadata": {},
   "outputs": [
    {
     "data": {
      "text/plain": [
       "66"
      ]
     },
     "execution_count": 37,
     "metadata": {},
     "output_type": "execute_result"
    }
   ],
   "source": [
    "diccionario[\"num\"]"
   ]
  },
  {
   "cell_type": "code",
   "execution_count": null,
   "metadata": {},
   "outputs": [
    {
     "name": "stdout",
     "output_type": "stream",
     "text": [
      "56 esto es un texto de ejercicio (4, 'eder', 45, 7)\n"
     ]
    }
   ],
   "source": [
    "num2 = 56\n",
    "text2 = \"esto es un texto de ejercicio\"\n",
    "list2 = [3,5,\"ede\",56,False]\n",
    "tupla2 = (4,\"eder\",45,7)\n",
    "conjunto2 = {4,3,2,5,6,\"escribo\", True}\n",
    "diccionario = {\"texto\":text2,\"numero\":num2}\n",
    "print(num2,text2, tupla2)"
   ]
  },
  {
   "cell_type": "code",
   "execution_count": null,
   "metadata": {},
   "outputs": [
    {
     "name": "stdout",
     "output_type": "stream",
     "text": [
      "Todos los animales {'perros': [{'nombre': 'lucky', 'tipo animal': 'perro', 'peso': 4, 'edad': 5}, {'nombre': 'odie', 'tipo animal': 'perro', 'peso': 2, 'edad': 10}], 'tortugas': [{'nombre': 'manuelita', 'tipo animal': 'tortuga', 'peso': 0.2, 'edad': 56}, {'nombre': 'maestro', 'tipo animal': 'tortuga', 'peso': 0.2, 'edad': 56}]}\n"
     ]
    },
    {
     "ename": "TypeError",
     "evalue": "list indices must be integers or slices, not dict",
     "output_type": "error",
     "traceback": [
      "\u001b[0;31m---------------------------------------------------------------------------\u001b[0m",
      "\u001b[0;31mTypeError\u001b[0m                                 Traceback (most recent call last)",
      "Cell \u001b[0;32mIn[1], line 13\u001b[0m\n\u001b[1;32m      9\u001b[0m veterinaria \u001b[38;5;241m=\u001b[39m {\u001b[38;5;124m\"\u001b[39m\u001b[38;5;124mperros\u001b[39m\u001b[38;5;124m\"\u001b[39m:perros,\u001b[38;5;124m\"\u001b[39m\u001b[38;5;124mtortugas\u001b[39m\u001b[38;5;124m\"\u001b[39m:tortugas}\n\u001b[1;32m     11\u001b[0m \u001b[38;5;28mprint\u001b[39m (\u001b[38;5;124m\"\u001b[39m\u001b[38;5;124mTodos los animales\u001b[39m\u001b[38;5;124m\"\u001b[39m,veterinaria)\n\u001b[0;32m---> 13\u001b[0m \u001b[38;5;28mprint\u001b[39m (\u001b[38;5;124m\"\u001b[39m\u001b[38;5;124mla segunda tortuga\u001b[39m\u001b[38;5;124m\"\u001b[39m,\u001b[43mtortugas\u001b[49m\u001b[43m[\u001b[49m\u001b[43mmaestro\u001b[49m\u001b[43m]\u001b[49m)\n",
      "\u001b[0;31mTypeError\u001b[0m: list indices must be integers or slices, not dict"
     ]
    }
   ],
   "source": [
    "lucky = {\"nombre\":\"lucky\",\"tipo animal\":\"perro\",\"peso\":4, \"edad\":5}\n",
    "manuelita = {\"nombre\":\"manuelita\",\"tipo animal\":\"tortuga\",\"peso\":0.2, \"edad\":56}\n",
    "odie = {\"nombre\":\"odie\",\"tipo animal\":\"perro\",\"peso\":2, \"edad\":10}\n",
    "maestro = {\"nombre\":\"maestro\",\"tipo animal\":\"tortuga\",\"peso\":0.2, \"edad\":56}\n",
    "\n",
    "perros = [lucky,odie]\n",
    "tortugas = [manuelita,maestro]\n",
    "\n",
    "veterinaria = {\"perros\":perros,\"tortugas\":tortugas}\n",
    "\n",
    "print (\"Todos los animales\",veterinaria)\n",
    "\n",
    "print (\"la segunda tortuga\",tortugas[maestro])\n"
   ]
  }
 ],
 "metadata": {
  "kernelspec": {
   "display_name": "Python 3.8 - AzureML",
   "language": "python",
   "name": "python38-azureml"
  },
  "language_info": {
   "codemirror_mode": {
    "name": "ipython",
    "version": 3
   },
   "file_extension": ".py",
   "mimetype": "text/x-python",
   "name": "python",
   "nbconvert_exporter": "python",
   "pygments_lexer": "ipython3",
   "version": "3.10.11"
  }
 },
 "nbformat": 4,
 "nbformat_minor": 2
}
