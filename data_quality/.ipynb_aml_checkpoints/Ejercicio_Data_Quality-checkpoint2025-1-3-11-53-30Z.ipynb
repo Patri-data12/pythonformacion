{
  "cells": [
    {
      "cell_type": "markdown",
      "source": [
        "##Ejercicio Data Quality - Perfilado\n",
        " ## Evaluar la calidad de datos de las ventas de productos"
      ],
      "metadata": {
        "nteract": {
          "transient": {
            "deleting": false
          }
        }
      }
    },
    {
      "cell_type": "markdown",
      "source": [
        "Se quiere hacer una evaluación de calidad de datos sobre las ventas (sales) y pagos (payments). Para ello se requiere hacer un análisis de los siguientes puntos:\n",
        "```\n",
        "\n",
        "Calidad de los datos\n",
        "Selección de clave principal\n",
        "Identificación de cardinalidad\n",
        "Obtener media, varianza y desviacion Estandar, covarianza, correlacion\n",
        "Mejorar la calidad.\n",
        "Referencia: “Estadística Descriptiva con Python y Pandas”: https://coderhook.github.io/Descriptive%20Statistics\n",
        "\n",
        "Columnas sales:, orderNumber, orderLineNumber, orderDate, shippedDate, requiredDate, customerNumber, employeeNumber, productCode, status, comments, quantityOrdered, priceEach, sales_amount, origin\n",
        "\n",
        "Columnas payments:, customerNumber, checkNumber, paymentDate, amount"
      ],
      "metadata": {
        "nteract": {
          "transient": {
            "deleting": false
          }
        }
      }
    },
    {
      "cell_type": "code",
      "source": [
        "#Carga datos\n",
        "import pandas as pd\n",
        "import numpy as np\n",
        " \n",
        "payments = pd.read_csv(r'https://raw.githubusercontent.com/ricardoahumada/DataScienceBasics/refs/heads/main/data/company_sales/payments.csv')\n",
        "payments\n",
        "\n",
        "sales = pd.read_csv(r'https://raw.githubusercontent.com/ricardoahumada/DataScienceBasics/refs/heads/main/data/company_sales/sales.csv')\n",
        "sales"
      ],
      "outputs": [
        {
          "output_type": "execute_result",
          "execution_count": 35,
          "data": {
            "text/plain": "          0  0.1  0000-00-00 0000-00-00.1 0000-00-00.2  0.2   0.3 productCode  \\\n0     10100    1  0000-00-00   0000-00-00   0000-00-00  363  1216    S24_3969   \n1     10100    2  0000-00-00   0000-00-00   0000-00-00  363  1216    S18_2248   \n2     10100    3  0000-00-00   0000-00-00   0000-00-00  363  1216    S18_1749   \n3     10100    4  0000-00-00   0000-00-00   0000-00-00  363  1216    S18_4409   \n4     10101    1  0000-00-00   0000-00-00   0000-00-00  128  1504    S18_2795   \n...     ...  ...         ...          ...          ...  ...   ...         ...   \n2996  10425    9  0000-00-00          NaN   0000-00-00  119  1370    S24_2300   \n2997  10425   10  0000-00-00          NaN   0000-00-00  119  1370    S18_2432   \n2998  10425   11  0000-00-00          NaN   0000-00-00  119  1370    S32_1268   \n2999  10425   12  0000-00-00          NaN   0000-00-00  119  1370    S10_4962   \n3000  10425   13  0000-00-00          NaN   0000-00-00  119  1370    S18_4600   \n\n          status                comments  0.4    0.00   0.00.1 origin  \n0        Shipped                     NaN   49   35.29  1729.21  spain  \n1        Shipped                     NaN   50   55.09  2754.50  spain  \n2        Shipped                     NaN   30  136.00  4080.00  spain  \n3        Shipped                     NaN   22   75.46  1660.12  spain  \n4        Shipped  Check on availability.   26  167.06  4343.56  spain  \n...          ...                     ...  ...     ...      ...    ...  \n2996  In Process                     NaN   49  127.79  6261.71  spain  \n2997  In Process                     NaN   19   48.62   923.78  spain  \n2998  In Process                     NaN   41   83.79  3435.39  spain  \n2999  In Process                     NaN   38  131.49  4996.62  spain  \n3000  In Process                     NaN   38  107.76  4094.88  spain  \n\n[3001 rows x 14 columns]",
            "text/html": "<div>\n<style scoped>\n    .dataframe tbody tr th:only-of-type {\n        vertical-align: middle;\n    }\n\n    .dataframe tbody tr th {\n        vertical-align: top;\n    }\n\n    .dataframe thead th {\n        text-align: right;\n    }\n</style>\n<table border=\"1\" class=\"dataframe\">\n  <thead>\n    <tr style=\"text-align: right;\">\n      <th></th>\n      <th>0</th>\n      <th>0.1</th>\n      <th>0000-00-00</th>\n      <th>0000-00-00.1</th>\n      <th>0000-00-00.2</th>\n      <th>0.2</th>\n      <th>0.3</th>\n      <th>productCode</th>\n      <th>status</th>\n      <th>comments</th>\n      <th>0.4</th>\n      <th>0.00</th>\n      <th>0.00.1</th>\n      <th>origin</th>\n    </tr>\n  </thead>\n  <tbody>\n    <tr>\n      <th>0</th>\n      <td>10100</td>\n      <td>1</td>\n      <td>0000-00-00</td>\n      <td>0000-00-00</td>\n      <td>0000-00-00</td>\n      <td>363</td>\n      <td>1216</td>\n      <td>S24_3969</td>\n      <td>Shipped</td>\n      <td>NaN</td>\n      <td>49</td>\n      <td>35.29</td>\n      <td>1729.21</td>\n      <td>spain</td>\n    </tr>\n    <tr>\n      <th>1</th>\n      <td>10100</td>\n      <td>2</td>\n      <td>0000-00-00</td>\n      <td>0000-00-00</td>\n      <td>0000-00-00</td>\n      <td>363</td>\n      <td>1216</td>\n      <td>S18_2248</td>\n      <td>Shipped</td>\n      <td>NaN</td>\n      <td>50</td>\n      <td>55.09</td>\n      <td>2754.50</td>\n      <td>spain</td>\n    </tr>\n    <tr>\n      <th>2</th>\n      <td>10100</td>\n      <td>3</td>\n      <td>0000-00-00</td>\n      <td>0000-00-00</td>\n      <td>0000-00-00</td>\n      <td>363</td>\n      <td>1216</td>\n      <td>S18_1749</td>\n      <td>Shipped</td>\n      <td>NaN</td>\n      <td>30</td>\n      <td>136.00</td>\n      <td>4080.00</td>\n      <td>spain</td>\n    </tr>\n    <tr>\n      <th>3</th>\n      <td>10100</td>\n      <td>4</td>\n      <td>0000-00-00</td>\n      <td>0000-00-00</td>\n      <td>0000-00-00</td>\n      <td>363</td>\n      <td>1216</td>\n      <td>S18_4409</td>\n      <td>Shipped</td>\n      <td>NaN</td>\n      <td>22</td>\n      <td>75.46</td>\n      <td>1660.12</td>\n      <td>spain</td>\n    </tr>\n    <tr>\n      <th>4</th>\n      <td>10101</td>\n      <td>1</td>\n      <td>0000-00-00</td>\n      <td>0000-00-00</td>\n      <td>0000-00-00</td>\n      <td>128</td>\n      <td>1504</td>\n      <td>S18_2795</td>\n      <td>Shipped</td>\n      <td>Check on availability.</td>\n      <td>26</td>\n      <td>167.06</td>\n      <td>4343.56</td>\n      <td>spain</td>\n    </tr>\n    <tr>\n      <th>...</th>\n      <td>...</td>\n      <td>...</td>\n      <td>...</td>\n      <td>...</td>\n      <td>...</td>\n      <td>...</td>\n      <td>...</td>\n      <td>...</td>\n      <td>...</td>\n      <td>...</td>\n      <td>...</td>\n      <td>...</td>\n      <td>...</td>\n      <td>...</td>\n    </tr>\n    <tr>\n      <th>2996</th>\n      <td>10425</td>\n      <td>9</td>\n      <td>0000-00-00</td>\n      <td>NaN</td>\n      <td>0000-00-00</td>\n      <td>119</td>\n      <td>1370</td>\n      <td>S24_2300</td>\n      <td>In Process</td>\n      <td>NaN</td>\n      <td>49</td>\n      <td>127.79</td>\n      <td>6261.71</td>\n      <td>spain</td>\n    </tr>\n    <tr>\n      <th>2997</th>\n      <td>10425</td>\n      <td>10</td>\n      <td>0000-00-00</td>\n      <td>NaN</td>\n      <td>0000-00-00</td>\n      <td>119</td>\n      <td>1370</td>\n      <td>S18_2432</td>\n      <td>In Process</td>\n      <td>NaN</td>\n      <td>19</td>\n      <td>48.62</td>\n      <td>923.78</td>\n      <td>spain</td>\n    </tr>\n    <tr>\n      <th>2998</th>\n      <td>10425</td>\n      <td>11</td>\n      <td>0000-00-00</td>\n      <td>NaN</td>\n      <td>0000-00-00</td>\n      <td>119</td>\n      <td>1370</td>\n      <td>S32_1268</td>\n      <td>In Process</td>\n      <td>NaN</td>\n      <td>41</td>\n      <td>83.79</td>\n      <td>3435.39</td>\n      <td>spain</td>\n    </tr>\n    <tr>\n      <th>2999</th>\n      <td>10425</td>\n      <td>12</td>\n      <td>0000-00-00</td>\n      <td>NaN</td>\n      <td>0000-00-00</td>\n      <td>119</td>\n      <td>1370</td>\n      <td>S10_4962</td>\n      <td>In Process</td>\n      <td>NaN</td>\n      <td>38</td>\n      <td>131.49</td>\n      <td>4996.62</td>\n      <td>spain</td>\n    </tr>\n    <tr>\n      <th>3000</th>\n      <td>10425</td>\n      <td>13</td>\n      <td>0000-00-00</td>\n      <td>NaN</td>\n      <td>0000-00-00</td>\n      <td>119</td>\n      <td>1370</td>\n      <td>S18_4600</td>\n      <td>In Process</td>\n      <td>NaN</td>\n      <td>38</td>\n      <td>107.76</td>\n      <td>4094.88</td>\n      <td>spain</td>\n    </tr>\n  </tbody>\n</table>\n<p>3001 rows × 14 columns</p>\n</div>"
          },
          "metadata": {}
        }
      ],
      "execution_count": 35,
      "metadata": {
        "gather": {
          "logged": 1738582496550
        }
      }
    },
    {
      "cell_type": "code",
      "source": [
        "payments.info()\n",
        "\n",
        "\n",
        "#Diccionario de mapeo de nombres de columnas\n",
        "mapeo_columnas = {'0': 'customerNumber','checkNumber':'checkNumber','0000-00-00':'paymentDate','0.00':'amount'}\n",
        "\n",
        "# Renombrar las columnas del DataFrame\n",
        "payments.rename(columns=mapeo_columnas, inplace=True)\n",
        "\n",
        "print(payments.head())"
      ],
      "outputs": [
        {
          "output_type": "stream",
          "name": "stdout",
          "text": "<class 'pandas.core.frame.DataFrame'>\nRangeIndex: 278 entries, 0 to 277\nData columns (total 4 columns):\n #   Column          Non-Null Count  Dtype  \n---  ------          --------------  -----  \n 0   customerNumber  278 non-null    int64  \n 1   checkNumber     278 non-null    object \n 2   paymentDate     278 non-null    object \n 3   amount          278 non-null    float64\ndtypes: float64(1), int64(1), object(2)\nmemory usage: 8.8+ KB\n   customerNumber checkNumber paymentDate    amount\n0             103    HQ336336  2004-10-19   6066.78\n1             103    JM555205  2003-06-05  14571.44\n2             103    OM314933  2004-12-18   1676.14\n3             112    BO864823  2004-12-17  14191.12\n4             112     HQ55022  2003-06-06  32641.98\n"
        }
      ],
      "execution_count": 14,
      "metadata": {
        "gather": {
          "logged": 1738581000609
        }
      }
    },
    {
      "cell_type": "code",
      "source": [
        "sales.info()\n",
        "\n",
        "#Diccionario de mapeo de nombres de columnas\n",
        "mapeo_columnas_sales = {\n",
        "    '0': 'orderNumber',\n",
        "    '0.1': 'orderLineNumber',\n",
        "    '0000-00-00': 'orderDate',\n",
        "    '0000-00-00.1': 'shippedDate',\n",
        "    '0000-00-00.2': 'requiredDate',\n",
        "    '0.2': 'customerNumber',\n",
        "    '0.3': 'employeeNumber',\n",
        "    'productCode': 'productCode',\n",
        "    'status': 'status',\n",
        "    'comments': 'comments',\n",
        "    '0.4': 'quantityOrdered',\n",
        "    '0.00': 'priceEach',\n",
        "    '0.00.1': 'sales_amount',\n",
        "    'origin': 'origin'\n",
        "}\n",
        "\n",
        "# Renombrar las columnas del DataFrame\n",
        "sales.rename(columns=mapeo_columnas_sales, inplace=True)\n",
        "\n",
        "print(sales.head())"
      ],
      "outputs": [
        {
          "output_type": "stream",
          "name": "stdout",
          "text": "<class 'pandas.core.frame.DataFrame'>\nRangeIndex: 3001 entries, 0 to 3000\nData columns (total 14 columns):\n #   Column           Non-Null Count  Dtype  \n---  ------           --------------  -----  \n 0   orderNumber      3001 non-null   int64  \n 1   orderLineNumber  3001 non-null   int64  \n 2   orderDate        3001 non-null   object \n 3   shippedDate      2859 non-null   object \n 4   requiredDate     3001 non-null   object \n 5   customerNumber   3001 non-null   int64  \n 6   employeeNumber   3001 non-null   int64  \n 7   productCode      3001 non-null   object \n 8   status           3001 non-null   object \n 9   comments         759 non-null    object \n 10  quantityOrdered  3001 non-null   int64  \n 11  priceEach        3001 non-null   float64\n 12  sales_amount     3001 non-null   float64\n 13  origin           3001 non-null   object \ndtypes: float64(2), int64(5), object(7)\nmemory usage: 328.4+ KB\n   orderNumber  orderLineNumber   orderDate shippedDate requiredDate  \\\n0        10100                1  0000-00-00  0000-00-00   0000-00-00   \n1        10100                2  0000-00-00  0000-00-00   0000-00-00   \n2        10100                3  0000-00-00  0000-00-00   0000-00-00   \n3        10100                4  0000-00-00  0000-00-00   0000-00-00   \n4        10101                1  0000-00-00  0000-00-00   0000-00-00   \n\n   customerNumber  employeeNumber productCode   status  \\\n0             363            1216    S24_3969  Shipped   \n1             363            1216    S18_2248  Shipped   \n2             363            1216    S18_1749  Shipped   \n3             363            1216    S18_4409  Shipped   \n4             128            1504    S18_2795  Shipped   \n\n                 comments  quantityOrdered  priceEach  sales_amount origin  \n0                     NaN               49      35.29       1729.21  spain  \n1                     NaN               50      55.09       2754.50  spain  \n2                     NaN               30     136.00       4080.00  spain  \n3                     NaN               22      75.46       1660.12  spain  \n4  Check on availability.               26     167.06       4343.56  spain  \n"
        }
      ],
      "execution_count": 16,
      "metadata": {
        "gather": {
          "logged": 1738581446613
        }
      }
    },
    {
      "cell_type": "code",
      "source": [
        "# Selección de clave principal\n",
        "\n",
        "# Combinar los DataFrames utilizando una clave compuesta\n",
        "merged_pay_sale = pd.merge(sales, payments, on='customerNumber', how = 'outer', indicator = True)\n",
        "\n",
        "# Imprimir el DataFrame combinado\n",
        "\n",
        "print(merged_pay_sale.head())\n",
        "\n",
        "print(merged_pay_sale.tail())\n",
        "\n"
      ],
      "outputs": [
        {
          "output_type": "stream",
          "name": "stdout",
          "text": "   orderNumber  orderLineNumber   orderDate shippedDate requiredDate  \\\n0        10123                1  0000-00-00  0000-00-00   0000-00-00   \n1        10123                1  0000-00-00  0000-00-00   0000-00-00   \n2        10123                1  0000-00-00  0000-00-00   0000-00-00   \n3        10123                2  0000-00-00  0000-00-00   0000-00-00   \n4        10123                2  0000-00-00  0000-00-00   0000-00-00   \n\n   customerNumber  employeeNumber productCode   status comments  \\\n0             103            1370    S24_1628  Shipped      NaN   \n1             103            1370    S24_1628  Shipped      NaN   \n2             103            1370    S24_1628  Shipped      NaN   \n3             103            1370    S18_1589  Shipped      NaN   \n4             103            1370    S18_1589  Shipped      NaN   \n\n   quantityOrdered  priceEach  sales_amount origin checkNumber paymentDate  \\\n0               50      43.27       2163.50  spain    HQ336336  2004-10-19   \n1               50      43.27       2163.50  spain    JM555205  2003-06-05   \n2               50      43.27       2163.50  spain    OM314933  2004-12-18   \n3               26     120.71       3138.46  spain    HQ336336  2004-10-19   \n4               26     120.71       3138.46  spain    JM555205  2003-06-05   \n\n     amount _merge  \n0   6066.78   both  \n1  14571.44   both  \n2   1676.14   both  \n3   6066.78   both  \n4  14571.44   both  \n       orderNumber  orderLineNumber   orderDate shippedDate requiredDate  \\\n12130        10399                7  0000-00-00  0000-00-00   0000-00-00   \n12131        10399                7  0000-00-00  0000-00-00   0000-00-00   \n12132        10399                8  0000-00-00  0000-00-00   0000-00-00   \n12133        10399                8  0000-00-00  0000-00-00   0000-00-00   \n12134        10399                8  0000-00-00  0000-00-00   0000-00-00   \n\n       customerNumber  employeeNumber productCode   status comments  \\\n12130             496            1612    S10_2016  Shipped      NaN   \n12131             496            1612    S10_2016  Shipped      NaN   \n12132             496            1612    S10_1678  Shipped      NaN   \n12133             496            1612    S10_1678  Shipped      NaN   \n12134             496            1612    S10_1678  Shipped      NaN   \n\n       quantityOrdered  priceEach  sales_amount origin checkNumber  \\\n12130               51      99.91       5095.41  spain    MB342426   \n12131               51      99.91       5095.41  spain     MN89921   \n12132               40      77.52       3100.80  spain    EU531600   \n12133               40      77.52       3100.80  spain    MB342426   \n12134               40      77.52       3100.80  spain     MN89921   \n\n      paymentDate    amount _merge  \n12130  2003-07-16  32077.44   both  \n12131  2004-12-31  52166.00   both  \n12132  2005-05-25  30253.75   both  \n12133  2003-07-16  32077.44   both  \n12134  2004-12-31  52166.00   both  \n"
        }
      ],
      "execution_count": 24,
      "metadata": {
        "gather": {
          "logged": 1738581915178
        }
      }
    },
    {
      "cell_type": "code",
      "source": [
        "merged_pay_sale.info()"
      ],
      "outputs": [
        {
          "output_type": "stream",
          "name": "stdout",
          "text": "<class 'pandas.core.frame.DataFrame'>\nRangeIndex: 12135 entries, 0 to 12134\nData columns (total 18 columns):\n #   Column           Non-Null Count  Dtype   \n---  ------           --------------  -----   \n 0   orderNumber      12135 non-null  int64   \n 1   orderLineNumber  12135 non-null  int64   \n 2   orderDate        12135 non-null  object  \n 3   shippedDate      11566 non-null  object  \n 4   requiredDate     12135 non-null  object  \n 5   customerNumber   12135 non-null  int64   \n 6   employeeNumber   12135 non-null  int64   \n 7   productCode      12135 non-null  object  \n 8   status           12135 non-null  object  \n 9   comments         3064 non-null   object  \n 10  quantityOrdered  12135 non-null  int64   \n 11  priceEach        12135 non-null  float64 \n 12  sales_amount     12135 non-null  float64 \n 13  origin           12135 non-null  object  \n 14  checkNumber      12135 non-null  object  \n 15  paymentDate      12135 non-null  object  \n 16  amount           12135 non-null  float64 \n 17  _merge           12135 non-null  category\ndtypes: category(1), float64(3), int64(5), object(9)\nmemory usage: 1.6+ MB\n"
        }
      ],
      "execution_count": 32,
      "metadata": {
        "gather": {
          "logged": 1738582326645
        }
      }
    },
    {
      "cell_type": "code",
      "source": [
        "# Identificación de cardinalidad\n",
        "\n",
        "\n",
        "# Contar las ocurrencias de cada tipo de relación\n",
        "cardinalidad = merged_pay_sale['_merge'].value_counts()\n",
        "\n",
        "print(cardinalidad)"
      ],
      "outputs": [
        {
          "output_type": "stream",
          "name": "stdout",
          "text": "_merge\nboth          12135\nleft_only         0\nright_only        0\nName: count, dtype: int64\n"
        }
      ],
      "execution_count": 26,
      "metadata": {
        "gather": {
          "logged": 1738582009578
        }
      }
    },
    {
      "cell_type": "code",
      "source": [
        "merged_pay_sale.describe()"
      ],
      "outputs": [
        {
          "output_type": "execute_result",
          "execution_count": 29,
          "data": {
            "text/plain": "        orderNumber  orderLineNumber  customerNumber  employeeNumber  \\\ncount  12135.000000     12135.000000    12135.000000    12135.000000   \nmean   10268.261557         6.480429      215.378904     1312.386321   \nstd       97.138924         4.210831      111.267488      289.218619   \nmin    10100.000000         1.000000      103.000000        0.000000   \n25%    10182.000000         3.000000      141.000000     1216.000000   \n50%    10272.000000         6.000000      145.000000     1370.000000   \n75%    10358.000000         9.000000      298.000000     1401.000000   \nmax    10425.000000        18.000000      496.000000     1702.000000   \n\n       quantityOrdered     priceEach  sales_amount         amount  \ncount     12135.000000  12135.000000  12135.000000   12135.000000  \nmean         35.350639     90.489844   3207.886866   43310.415009  \nstd           9.641869     36.800733   1640.172089   27281.457050  \nmin           6.000000     26.550000    481.500000     615.450000  \n25%          27.000000     60.900000   1979.580000   25080.960000  \n50%          35.000000     85.860000   2864.160000   39440.590000  \n75%          43.000000    115.030000   4091.900000   51619.020000  \nmax          97.000000    214.300000  11503.140000  120166.580000  ",
            "text/html": "<div>\n<style scoped>\n    .dataframe tbody tr th:only-of-type {\n        vertical-align: middle;\n    }\n\n    .dataframe tbody tr th {\n        vertical-align: top;\n    }\n\n    .dataframe thead th {\n        text-align: right;\n    }\n</style>\n<table border=\"1\" class=\"dataframe\">\n  <thead>\n    <tr style=\"text-align: right;\">\n      <th></th>\n      <th>orderNumber</th>\n      <th>orderLineNumber</th>\n      <th>customerNumber</th>\n      <th>employeeNumber</th>\n      <th>quantityOrdered</th>\n      <th>priceEach</th>\n      <th>sales_amount</th>\n      <th>amount</th>\n    </tr>\n  </thead>\n  <tbody>\n    <tr>\n      <th>count</th>\n      <td>12135.000000</td>\n      <td>12135.000000</td>\n      <td>12135.000000</td>\n      <td>12135.000000</td>\n      <td>12135.000000</td>\n      <td>12135.000000</td>\n      <td>12135.000000</td>\n      <td>12135.000000</td>\n    </tr>\n    <tr>\n      <th>mean</th>\n      <td>10268.261557</td>\n      <td>6.480429</td>\n      <td>215.378904</td>\n      <td>1312.386321</td>\n      <td>35.350639</td>\n      <td>90.489844</td>\n      <td>3207.886866</td>\n      <td>43310.415009</td>\n    </tr>\n    <tr>\n      <th>std</th>\n      <td>97.138924</td>\n      <td>4.210831</td>\n      <td>111.267488</td>\n      <td>289.218619</td>\n      <td>9.641869</td>\n      <td>36.800733</td>\n      <td>1640.172089</td>\n      <td>27281.457050</td>\n    </tr>\n    <tr>\n      <th>min</th>\n      <td>10100.000000</td>\n      <td>1.000000</td>\n      <td>103.000000</td>\n      <td>0.000000</td>\n      <td>6.000000</td>\n      <td>26.550000</td>\n      <td>481.500000</td>\n      <td>615.450000</td>\n    </tr>\n    <tr>\n      <th>25%</th>\n      <td>10182.000000</td>\n      <td>3.000000</td>\n      <td>141.000000</td>\n      <td>1216.000000</td>\n      <td>27.000000</td>\n      <td>60.900000</td>\n      <td>1979.580000</td>\n      <td>25080.960000</td>\n    </tr>\n    <tr>\n      <th>50%</th>\n      <td>10272.000000</td>\n      <td>6.000000</td>\n      <td>145.000000</td>\n      <td>1370.000000</td>\n      <td>35.000000</td>\n      <td>85.860000</td>\n      <td>2864.160000</td>\n      <td>39440.590000</td>\n    </tr>\n    <tr>\n      <th>75%</th>\n      <td>10358.000000</td>\n      <td>9.000000</td>\n      <td>298.000000</td>\n      <td>1401.000000</td>\n      <td>43.000000</td>\n      <td>115.030000</td>\n      <td>4091.900000</td>\n      <td>51619.020000</td>\n    </tr>\n    <tr>\n      <th>max</th>\n      <td>10425.000000</td>\n      <td>18.000000</td>\n      <td>496.000000</td>\n      <td>1702.000000</td>\n      <td>97.000000</td>\n      <td>214.300000</td>\n      <td>11503.140000</td>\n      <td>120166.580000</td>\n    </tr>\n  </tbody>\n</table>\n</div>"
          },
          "metadata": {}
        }
      ],
      "execution_count": 29,
      "metadata": {
        "gather": {
          "logged": 1738582083279
        }
      }
    },
    {
      "cell_type": "code",
      "source": [
        "merged_pay_sale_del = merged_pay_sale.dropna()\n",
        "\n",
        "merged_pay_sale_del = merged_pay_sale.drop_duplicates()\n",
        "merged_pay_sale_del.duplicated().sum()\n",
        "\n",
        "print"
      ],
      "outputs": [],
      "execution_count": 41,
      "metadata": {
        "gather": {
          "logged": 1738582725967
        }
      }
    },
    {
      "cell_type": "code",
      "source": [
        "import warnings \n",
        "warnings.filterwarnings('ignore')\n",
        "\n",
        "from datetime import datetime, timedelta\n",
        "\n",
        "\n",
        "\n",
        "\n",
        "merged_pay_sale_del['orderDate'] = pd.to_datetime(merged_pay_sale_del['orderDate'], errors='coerce')\n",
        "merged_pay_sale_del['shippedDate'] = pd.to_datetime(merged_pay_sale_del['shippedDate'], errors='coerce')\n",
        "merged_pay_sale_del['requiredDate'] = pd.to_datetime(merged_pay_sale_del['requiredDate'], errors='coerce')\n",
        "\n",
        "merged_pay_sale_del.info()\n",
        "\n",
        "\n"
      ],
      "outputs": [
        {
          "output_type": "stream",
          "name": "stdout",
          "text": "<class 'pandas.core.frame.DataFrame'>\nIndex: 2668 entries, 21 to 12056\nData columns (total 18 columns):\n #   Column           Non-Null Count  Dtype         \n---  ------           --------------  -----         \n 0   orderNumber      2668 non-null   int64         \n 1   orderLineNumber  2668 non-null   int64         \n 2   orderDate        0 non-null      datetime64[ns]\n 3   shippedDate      0 non-null      datetime64[ns]\n 4   requiredDate     0 non-null      datetime64[ns]\n 5   customerNumber   2668 non-null   int64         \n 6   employeeNumber   2668 non-null   int64         \n 7   productCode      2668 non-null   object        \n 8   status           2668 non-null   object        \n 9   comments         2668 non-null   object        \n 10  quantityOrdered  2668 non-null   int64         \n 11  priceEach        2668 non-null   float64       \n 12  sales_amount     2668 non-null   float64       \n 13  origin           2668 non-null   object        \n 14  checkNumber      2668 non-null   object        \n 15  paymentDate      2668 non-null   object        \n 16  amount           2668 non-null   float64       \n 17  _merge           2668 non-null   category      \ndtypes: category(1), datetime64[ns](3), float64(3), int64(5), object(6)\nmemory usage: 377.9+ KB\n"
        }
      ],
      "execution_count": 43,
      "metadata": {
        "gather": {
          "logged": 1738582755070
        }
      }
    },
    {
      "cell_type": "code",
      "source": [
        "merged_pay_sale = merged_pay_sale.select_dtypes(np.number)\n",
        "merged_pay_sale.columns"
      ],
      "outputs": [
        {
          "output_type": "execute_result",
          "execution_count": 45,
          "data": {
            "text/plain": "Index(['orderNumber', 'orderLineNumber', 'customerNumber', 'employeeNumber',\n       'quantityOrdered', 'priceEach', 'sales_amount', 'amount'],\n      dtype='object')"
          },
          "metadata": {}
        }
      ],
      "execution_count": 45,
      "metadata": {
        "gather": {
          "logged": 1738583231741
        }
      }
    },
    {
      "cell_type": "code",
      "source": [
        "merged_pay_sale.corr(method = 'pearson')"
      ],
      "outputs": [
        {
          "output_type": "execute_result",
          "execution_count": 46,
          "data": {
            "text/plain": "                 orderNumber  orderLineNumber  customerNumber  employeeNumber  \\\norderNumber         1.000000        -0.043601       -0.055823        0.093933   \norderLineNumber    -0.043601         1.000000       -0.046181       -0.025340   \ncustomerNumber     -0.055823        -0.046181        1.000000        0.047658   \nemployeeNumber      0.093933        -0.025340        0.047658        1.000000   \nquantityOrdered     0.061193        -0.030471       -0.008200       -0.011477   \npriceEach          -0.000631         0.003338       -0.009333       -0.024298   \nsales_amount        0.037534        -0.023161       -0.008878       -0.026997   \namount              0.075594         0.070400       -0.315141       -0.022254   \n\n                 quantityOrdered  priceEach  sales_amount    amount  \norderNumber             0.061193  -0.000631      0.037534  0.075594  \norderLineNumber        -0.030471   0.003338     -0.023161  0.070400  \ncustomerNumber         -0.008200  -0.009333     -0.008878 -0.315141  \nemployeeNumber         -0.011477  -0.024298     -0.026997 -0.022254  \nquantityOrdered         1.000000   0.025449      0.567394  0.016842  \npriceEach               0.025449   1.000000      0.808453 -0.004082  \nsales_amount            0.567394   0.808453      1.000000  0.004644  \namount                  0.016842  -0.004082      0.004644  1.000000  ",
            "text/html": "<div>\n<style scoped>\n    .dataframe tbody tr th:only-of-type {\n        vertical-align: middle;\n    }\n\n    .dataframe tbody tr th {\n        vertical-align: top;\n    }\n\n    .dataframe thead th {\n        text-align: right;\n    }\n</style>\n<table border=\"1\" class=\"dataframe\">\n  <thead>\n    <tr style=\"text-align: right;\">\n      <th></th>\n      <th>orderNumber</th>\n      <th>orderLineNumber</th>\n      <th>customerNumber</th>\n      <th>employeeNumber</th>\n      <th>quantityOrdered</th>\n      <th>priceEach</th>\n      <th>sales_amount</th>\n      <th>amount</th>\n    </tr>\n  </thead>\n  <tbody>\n    <tr>\n      <th>orderNumber</th>\n      <td>1.000000</td>\n      <td>-0.043601</td>\n      <td>-0.055823</td>\n      <td>0.093933</td>\n      <td>0.061193</td>\n      <td>-0.000631</td>\n      <td>0.037534</td>\n      <td>0.075594</td>\n    </tr>\n    <tr>\n      <th>orderLineNumber</th>\n      <td>-0.043601</td>\n      <td>1.000000</td>\n      <td>-0.046181</td>\n      <td>-0.025340</td>\n      <td>-0.030471</td>\n      <td>0.003338</td>\n      <td>-0.023161</td>\n      <td>0.070400</td>\n    </tr>\n    <tr>\n      <th>customerNumber</th>\n      <td>-0.055823</td>\n      <td>-0.046181</td>\n      <td>1.000000</td>\n      <td>0.047658</td>\n      <td>-0.008200</td>\n      <td>-0.009333</td>\n      <td>-0.008878</td>\n      <td>-0.315141</td>\n    </tr>\n    <tr>\n      <th>employeeNumber</th>\n      <td>0.093933</td>\n      <td>-0.025340</td>\n      <td>0.047658</td>\n      <td>1.000000</td>\n      <td>-0.011477</td>\n      <td>-0.024298</td>\n      <td>-0.026997</td>\n      <td>-0.022254</td>\n    </tr>\n    <tr>\n      <th>quantityOrdered</th>\n      <td>0.061193</td>\n      <td>-0.030471</td>\n      <td>-0.008200</td>\n      <td>-0.011477</td>\n      <td>1.000000</td>\n      <td>0.025449</td>\n      <td>0.567394</td>\n      <td>0.016842</td>\n    </tr>\n    <tr>\n      <th>priceEach</th>\n      <td>-0.000631</td>\n      <td>0.003338</td>\n      <td>-0.009333</td>\n      <td>-0.024298</td>\n      <td>0.025449</td>\n      <td>1.000000</td>\n      <td>0.808453</td>\n      <td>-0.004082</td>\n    </tr>\n    <tr>\n      <th>sales_amount</th>\n      <td>0.037534</td>\n      <td>-0.023161</td>\n      <td>-0.008878</td>\n      <td>-0.026997</td>\n      <td>0.567394</td>\n      <td>0.808453</td>\n      <td>1.000000</td>\n      <td>0.004644</td>\n    </tr>\n    <tr>\n      <th>amount</th>\n      <td>0.075594</td>\n      <td>0.070400</td>\n      <td>-0.315141</td>\n      <td>-0.022254</td>\n      <td>0.016842</td>\n      <td>-0.004082</td>\n      <td>0.004644</td>\n      <td>1.000000</td>\n    </tr>\n  </tbody>\n</table>\n</div>"
          },
          "metadata": {}
        }
      ],
      "execution_count": 46,
      "metadata": {
        "gather": {
          "logged": 1738583282424
        }
      }
    }
  ],
  "metadata": {
    "kernelspec": {
      "name": "python310-sdkv2",
      "language": "python",
      "display_name": "Python 3.10 - SDK v2"
    },
    "language_info": {
      "name": "python",
      "version": "3.10.14",
      "mimetype": "text/x-python",
      "codemirror_mode": {
        "name": "ipython",
        "version": 3
      },
      "pygments_lexer": "ipython3",
      "nbconvert_exporter": "python",
      "file_extension": ".py"
    },
    "microsoft": {
      "ms_spell_check": {
        "ms_spell_check_language": "es"
      },
      "host": {
        "AzureML": {
          "notebookHasBeenCompleted": true
        }
      }
    },
    "kernel_info": {
      "name": "python310-sdkv2"
    },
    "nteract": {
      "version": "nteract-front-end@1.0.0"
    }
  },
  "nbformat": 4,
  "nbformat_minor": 2
}