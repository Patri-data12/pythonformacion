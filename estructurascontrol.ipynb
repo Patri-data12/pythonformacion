{
 "cells": [
  {
   "cell_type": "code",
   "execution_count": 2,
   "metadata": {},
   "outputs": [
    {
     "ename": "SyntaxError",
     "evalue": "expected ':' (2338459856.py, line 3)",
     "output_type": "error",
     "traceback": [
      "\u001b[0;36m  Cell \u001b[0;32mIn[2], line 3\u001b[0;36m\u001b[0m\n\u001b[0;31m    if n>=2\u001b[0m\n\u001b[0m           ^\u001b[0m\n\u001b[0;31mSyntaxError\u001b[0m\u001b[0;31m:\u001b[0m expected ':'\n"
     ]
    }
   ],
   "source": [
    "n=3\n",
    "\n",
    "if n>=2\n",
    "    print('Si es >= que 2')\n",
    "#ALT + SHIFT + F"
   ]
  },
  {
   "cell_type": "code",
   "execution_count": 4,
   "metadata": {},
   "outputs": [
    {
     "name": "stdout",
     "output_type": "stream",
     "text": [
      "Es menor que 2\n",
      "hola esta en la frase\n"
     ]
    }
   ],
   "source": [
    "n = 1\n",
    "\n",
    "if n >= 2 and n < 5:\n",
    "    print('Si es >=2')\n",
    "elif n>=5 and n>7:\n",
    "    print('es mayor que 5')\n",
    "elif n >= 7:\n",
    "    print('es mayor que 7')\n",
    "else:\n",
    "     print('Es menor que 2')\n",
    "\n",
    "n = n*2\n",
    "txt = 'Hola'\n",
    "\n",
    "if txt in 'Hola Mundo':\n",
    "    print('hola esta en la frase')\n"
   ]
  },
  {
   "cell_type": "code",
   "execution_count": 7,
   "metadata": {},
   "outputs": [
    {
     "name": "stdout",
     "output_type": "stream",
     "text": [
      "Estoy en el if\n",
      "Si es mayor que 2\n",
      "No es un 4;(\n",
      "hola esta en la frase\n"
     ]
    }
   ],
   "source": [
    "n = 3\n",
    "\n",
    "if n >= 2 and n < 5:\n",
    "    print('Estoy en el if')\n",
    "    print('Si es mayor que 2')\n",
    "    if n == 4:\n",
    "        print('Es un n4!!!')\n",
    "    else:\n",
    "        print('No es un 4;(')\n",
    "\n",
    "elif n>=5 and n>7:\n",
    "    print('es mayor que 5')\n",
    "\n",
    "elif n >= 7:\n",
    "    print('es mayor que 7')\n",
    "\n",
    "else:\n",
    "     print('Es menor que 2')\n",
    "\n",
    "\n",
    "\n",
    "n = n*2\n",
    "txt = 'Hola'\n",
    "\n",
    "if txt in 'Hola Mundo':\n",
    "    print('hola esta en la frase')\n"
   ]
  },
  {
   "cell_type": "code",
   "execution_count": 9,
   "metadata": {},
   "outputs": [
    {
     "name": "stdout",
     "output_type": "stream",
     "text": [
      "Estoy en el if\n",
      "Si es mayor que 2\n",
      "No es un 4;(\n"
     ]
    }
   ],
   "source": [
    "n = 3\n",
    "\n",
    "if n >= 2 and n < 5:\n",
    "    print('Estoy en el if')\n",
    "    print('Si es mayor que 2')\n",
    "    if n == 4:\n",
    "        print('Es un n4!!!')\n",
    "    else:\n",
    "        print('No es un 4;(')\n",
    "\n",
    "elif n>=5 and n>7:\n",
    "    print('es mayor que 5')\n",
    "\n",
    "elif n >= 7:\n",
    "    print('es mayor que 7')\n",
    "\n",
    "else:\n",
    "     print('Es menor que 2')\n"
   ]
  },
  {
   "cell_type": "code",
   "execution_count": 11,
   "metadata": {},
   "outputs": [
    {
     "name": "stdout",
     "output_type": "stream",
     "text": [
      "hola esta en la frase\n"
     ]
    }
   ],
   "source": [
    "n = n*2\n",
    "txt = 'Hola'\n",
    "\n",
    "if txt in 'Hola Mundo':\n",
    "    print('hola esta en la frase')\n"
   ]
  },
  {
   "cell_type": "code",
   "execution_count": 13,
   "metadata": {},
   "outputs": [
    {
     "name": "stdout",
     "output_type": "stream",
     "text": [
      "1\n",
      "2\n",
      "3\n",
      "4\n"
     ]
    }
   ],
   "source": [
    "l1 = [1,2,3,4]\n",
    "\n",
    "for num in l1:\n",
    "    print(num)"
   ]
  },
  {
   "cell_type": "code",
   "execution_count": 15,
   "metadata": {},
   "outputs": [
    {
     "name": "stdout",
     "output_type": "stream",
     "text": [
      "1\n",
      "2\n",
      "3\n",
      "4\n"
     ]
    }
   ],
   "source": [
    "t1 = (1,2,3,4)\n",
    "\n",
    "for num in l1:\n",
    "    print(num)"
   ]
  },
  {
   "cell_type": "code",
   "execution_count": 17,
   "metadata": {},
   "outputs": [
    {
     "name": "stdout",
     "output_type": "stream",
     "text": [
      "1\n",
      "2\n",
      "3\n",
      "4\n"
     ]
    }
   ],
   "source": [
    "s1 = {1,2,3,4}\n",
    "\n",
    "for num in l1:\n",
    "    print(num)"
   ]
  },
  {
   "cell_type": "code",
   "execution_count": 20,
   "metadata": {},
   "outputs": [
    {
     "name": "stdout",
     "output_type": "stream",
     "text": [
      "a 1\n",
      "b 2\n",
      "c 3\n",
      "d 4\n"
     ]
    }
   ],
   "source": [
    "d1 = {'a':1,'b':2,'c':3,'d':4}\n",
    "\n",
    "#d1.items() -> (k,v)\n",
    "\n",
    "for key, val in d1.items():\n",
    "    print(key, val)"
   ]
  },
  {
   "cell_type": "code",
   "execution_count": 22,
   "metadata": {},
   "outputs": [
    {
     "name": "stdout",
     "output_type": "stream",
     "text": [
      "a 1\n",
      "menor que 3\n",
      "b 2\n",
      "menor que 3\n",
      "c 3\n",
      "mayor que 2\n",
      "d 4\n",
      "mayor que 2\n"
     ]
    }
   ],
   "source": [
    "d1 = {'a':1,'b':2,'c':3,'d':4}\n",
    "\n",
    "#d1.items() -> (k,v)\n",
    "\n",
    "for key, val in d1.items():\n",
    "    print(key, val)\n",
    "    if val >2:\n",
    "        print('mayor que 2')\n",
    "    else:\n",
    "        print('menor que 3')"
   ]
  },
  {
   "cell_type": "code",
   "execution_count": 25,
   "metadata": {},
   "outputs": [
    {
     "name": "stdout",
     "output_type": "stream",
     "text": [
      "a 1\n",
      "menor que 3\n",
      "b 2\n",
      "menor que 3\n",
      "s 0\n",
      "menor que 3\n",
      "Salgo!\n"
     ]
    }
   ],
   "source": [
    "d1 = {'a':1,'b':2,'s': 0,'c':3,'d':4}\n",
    "\n",
    "#d1.items() -> (k,v)\n",
    "\n",
    "for key, val in d1.items():\n",
    "    print(key, val)\n",
    "    if val >2:\n",
    "        print('mayor que 2')\n",
    "    else:\n",
    "        print('menor que 3')\n",
    "\n",
    "    if val== 0:\n",
    "        print('Salgo!')\n",
    "        break \n",
    "    # sale del bucle y a partir de ahí los elementos siguiente sno se procesan"
   ]
  },
  {
   "cell_type": "code",
   "execution_count": 29,
   "metadata": {},
   "outputs": [
    {
     "name": "stdout",
     "output_type": "stream",
     "text": [
      "0\n",
      "2\n",
      "4\n",
      "6\n",
      "8\n"
     ]
    }
   ],
   "source": [
    "#bucle que cumple/no cumple condiciones\n",
    "\n",
    "contador = 0 \n",
    "\n",
    "while contador < 10:\n",
    "    print(contador)\n",
    "    contador +=2\n",
    "# \"+=1\" corresponde a \"contador = contador + 1\""
   ]
  },
  {
   "cell_type": "code",
   "execution_count": null,
   "metadata": {},
   "outputs": [
    {
     "name": "stdout",
     "output_type": "stream",
     "text": [
      "Estoy en el while...\n",
      "0\n",
      "Estoy en el while...\n",
      "2\n",
      "Estoy en el while...\n",
      "4\n",
      "Estoy en el while...\n",
      "6\n",
      "Estoy en el while...\n",
      "8\n"
     ]
    }
   ],
   "source": [
    "contador = 0 \n",
    "\n",
    "while contador < 10:\n",
    "    print(contador)\n",
    "    contador +=2"
   ]
  },
  {
   "cell_type": "code",
   "execution_count": 34,
   "metadata": {},
   "outputs": [
    {
     "name": "stdout",
     "output_type": "stream",
     "text": [
      "1\n",
      "2\n",
      "3\n",
      "4\n",
      "5\n"
     ]
    }
   ],
   "source": [
    "l1 = [1,2,3,4,5]\n",
    "\n",
    "index = 0\n",
    "\n",
    "while index< len(l1):\n",
    "    print (l1[index])\n",
    "    index +=1"
   ]
  },
  {
   "cell_type": "code",
   "execution_count": 35,
   "metadata": {},
   "outputs": [
    {
     "name": "stdout",
     "output_type": "stream",
     "text": [
      "1\n",
      "2\n",
      "3\n",
      "4\n",
      "5\n"
     ]
    }
   ],
   "source": [
    "l1 = [1,2,3,4,5]\n",
    "\n",
    "index = 0\n",
    "\n",
    "while index< len(l1):\n",
    "    print (l1[index])\n",
    "    index +=1"
   ]
  },
  {
   "cell_type": "code",
   "execution_count": 37,
   "metadata": {},
   "outputs": [
    {
     "name": "stdout",
     "output_type": "stream",
     "text": [
      "a 1\n",
      "menor que 2\n",
      "b 2\n",
      "No sigo en esta iteración\n",
      "s 0\n",
      "menor que 2\n",
      "Salgo!!\n"
     ]
    }
   ],
   "source": [
    "d1 = {'a':1,'b':2,'s': 0,'c':3,'d':4}\n",
    "\n",
    "l1 = list(d1.items())\n",
    "\n",
    "\n",
    "idx = 0\n",
    "\n",
    "while idx < len(l1):\n",
    "    key,val = l1[idx]\n",
    "    idx += 1\n",
    "\n",
    "    print (key,val)\n",
    "\n",
    "    if val > 1:\n",
    "        print('No sigo en esta iteración')\n",
    "        continue\n",
    "\n",
    "    if val >2:\n",
    "        print('Mayor que 2')\n",
    "    else:\n",
    "        print('menor que 2')\n",
    "\n",
    "    if val == 0:\n",
    "        print('Salgo!!')\n",
    "        break"
   ]
  },
  {
   "cell_type": "code",
   "execution_count": 42,
   "metadata": {},
   "outputs": [
    {
     "name": "stdout",
     "output_type": "stream",
     "text": [
      "has escogido: 4\n",
      "Salgo!\n"
     ]
    }
   ],
   "source": [
    "opcion = 0\n",
    "\n",
    "while opcion != 4:\n",
    "    opcion = int(input('Escoger un valor entre 1, 2, 3 ,4'))\n",
    "    print('has escogido:',opcion)\n",
    "    if opcion == 4:\n",
    "        print('Salgo!')"
   ]
  },
  {
   "cell_type": "code",
   "execution_count": 48,
   "metadata": {},
   "outputs": [
    {
     "name": "stdout",
     "output_type": "stream",
     "text": [
      "has escogido: 4\n",
      "Salgo!\n"
     ]
    }
   ],
   "source": [
    "opcion = 0\n",
    "\n",
    "while opcion != 4:\n",
    "    try:\n",
    "        opcion = int(input('Escoger un valor entre 1, 2, 3 ,4'))\n",
    "    except:\n",
    "        print('debe ser u numero')\n",
    "    \n",
    "    if(opcion<0 or opcion>4):\n",
    "        print('Debe ser 1,2 3 or 4')\n",
    "    else:\n",
    "        print('has escogido:',opcion)\n",
    "\n",
    "    if opcion == 4:\n",
    "        print('Salgo!')"
   ]
  },
  {
   "cell_type": "code",
   "execution_count": 52,
   "metadata": {},
   "outputs": [
    {
     "name": "stdout",
     "output_type": "stream",
     "text": [
      "('a', 1)\n",
      "a\n",
      "1\n",
      "('b', 2)\n",
      "b\n",
      "2\n",
      "('s', 0)\n",
      "s\n",
      "0\n",
      "('c', 3)\n",
      "c\n",
      "3\n",
      "('d', 4)\n",
      "d\n",
      "4\n"
     ]
    }
   ],
   "source": [
    "d1 = {'a':1,'b':2,'s': 0,'c':3,'d':4}\n",
    "l1 = list(d1.items())\n",
    "\n",
    "\n",
    "for fila in l1:\n",
    "    print(fila)\n",
    "    \n",
    "    for col in fila:\n",
    "        print(col)"
   ]
  },
  {
   "cell_type": "code",
   "execution_count": 56,
   "metadata": {},
   "outputs": [
    {
     "name": "stdout",
     "output_type": "stream",
     "text": [
      "El mayor es 5\n"
     ]
    }
   ],
   "source": [
    "# Ejercicios\n",
    "\n",
    "#Genera un programa que encunetre el mayor de 3 numeros en tres variables, usando solo if-elif-else\n",
    "\n",
    "n1 = 1\n",
    "n2 = 4\n",
    "n3 = 5\n",
    "\n",
    "if n1 >= n2 and n1 >= n3:\n",
    "    mayor = n1\n",
    "elif n2 >= n1 and n2 >= n3:\n",
    "    mayor = n2\n",
    "else:\n",
    "    mayor = n3\n",
    "\n",
    "print(\"El mayor es\",mayor)"
   ]
  },
  {
   "cell_type": "code",
   "execution_count": 67,
   "metadata": {},
   "outputs": [
    {
     "name": "stdout",
     "output_type": "stream",
     "text": [
      "El mayor es 8\n"
     ]
    }
   ],
   "source": [
    "#Extendiende la lógica anterior para una lista de números\n",
    "numeros = [1,3,6,8,5]\n",
    "\n",
    "mayor = 0\n",
    "\n",
    "for num in numeros:\n",
    "    if (num > mayor):\n",
    "         mayor = num\n",
    "\n",
    "print(\"El mayor es\",mayor)\n"
   ]
  },
  {
   "cell_type": "code",
   "execution_count": 69,
   "metadata": {},
   "outputs": [
    {
     "name": "stdout",
     "output_type": "stream",
     "text": [
      "El mayor es 9\n"
     ]
    }
   ],
   "source": [
    "#Extendiende la lógica antarior para un diccionario: {'john':4, 'Anna': 7, 'Peter': 1, 'Riga': 9}\n",
    "\n",
    "d1 = {'john':4, 'Anna': 7, 'Peter': 1, 'Riga': 9}\n",
    "\n",
    "mayor = 0\n",
    "\n",
    "for key,val in d1.items():\n",
    "    if (val > mayor):\n",
    "         mayor = val\n",
    "\n",
    "print(\"El mayor es\",mayor)\n",
    "\n"
   ]
  },
  {
   "cell_type": "code",
   "execution_count": null,
   "metadata": {},
   "outputs": [],
   "source": [
    "# La fiesta VIP de John\n",
    "#John desea realizar una fiesta VIP; pero el año anterior una persona se coló utilizando el mismo nombre de otra. Y por eso John ha decidido este año que el portero pida el número de documento.\n",
    "#El programa deberá tener una lista de dnis aprobados. El portero deberá poder introducir el número de documento de quien solicita entrar a la fiesta y comprobar si existe en la lista. Si está, se muestra un PERMITIDO ENTRAR. Luego debe mostrar cuántas personas de la lista quedan por entrar.\n",
    "#Si no está en la lista, deberá indicar NO PERMITIDO y seguir esperando un nuevo documento.\n",
    "#Cuando se complete la lista, seberá indicar COMPLETADO y salir.\n",
    "#La lista, una vez definida por John, no debe poder modificarse durante el proceso.\n",
    "\n",
    "dictvip = {'pepe': 234,'Ana':345,'Juan':456,'Mery':567,'Pete':678}\n",
    "\n",
    "entrada = len(dictvip)\n",
    "\n",
    "while entrada > 0:\n",
    "    invitado = int(input('Escribe un dni: '))\n",
    "\n",
    "for val in dictvip.items():\n",
    "    if (val == invitado):\n",
    "        print('Puede acceder')\n",
    "    else:\n",
    "        print('Se quiere colar')\n",
    "\n",
    "#ESTO ESTÁ MAL"
   ]
  },
  {
   "cell_type": "code",
   "execution_count": 2,
   "metadata": {},
   "outputs": [
    {
     "ename": "KeyboardInterrupt",
     "evalue": "Interrupted by user",
     "output_type": "error",
     "traceback": [
      "\u001b[0;31m---------------------------------------------------------------------------\u001b[0m",
      "\u001b[0;31mKeyboardInterrupt\u001b[0m                         Traceback (most recent call last)",
      "Cell \u001b[0;32mIn[2], line 7\u001b[0m\n\u001b[1;32m      3\u001b[0m quedan \u001b[38;5;241m=\u001b[39m \u001b[38;5;28mlen\u001b[39m(dnis)\n\u001b[1;32m      6\u001b[0m \u001b[38;5;28;01mwhile\u001b[39;00m quedan:\n\u001b[0;32m----> 7\u001b[0m     aDni \u001b[38;5;241m=\u001b[39m \u001b[38;5;28;43minput\u001b[39;49m\u001b[43m(\u001b[49m\u001b[38;5;124;43m'\u001b[39;49m\u001b[38;5;124;43mdni?\u001b[39;49m\u001b[38;5;124;43m'\u001b[39;49m\u001b[43m)\u001b[49m\n\u001b[1;32m      9\u001b[0m     \u001b[38;5;28;01mif\u001b[39;00m aDni \u001b[38;5;129;01min\u001b[39;00m mutable_dnis:\n\u001b[1;32m     10\u001b[0m         \u001b[38;5;28mprint\u001b[39m(\u001b[38;5;124m'\u001b[39m\u001b[38;5;124mPuede pasar\u001b[39m\u001b[38;5;124m'\u001b[39m,aDni)\n",
      "File \u001b[0;32m/anaconda/envs/azureml_py38/lib/python3.10/site-packages/ipykernel/kernelbase.py:1282\u001b[0m, in \u001b[0;36mKernel.raw_input\u001b[0;34m(self, prompt)\u001b[0m\n\u001b[1;32m   1280\u001b[0m     msg \u001b[38;5;241m=\u001b[39m \u001b[38;5;124m\"\u001b[39m\u001b[38;5;124mraw_input was called, but this frontend does not support input requests.\u001b[39m\u001b[38;5;124m\"\u001b[39m\n\u001b[1;32m   1281\u001b[0m     \u001b[38;5;28;01mraise\u001b[39;00m StdinNotImplementedError(msg)\n\u001b[0;32m-> 1282\u001b[0m \u001b[38;5;28;01mreturn\u001b[39;00m \u001b[38;5;28;43mself\u001b[39;49m\u001b[38;5;241;43m.\u001b[39;49m\u001b[43m_input_request\u001b[49m\u001b[43m(\u001b[49m\n\u001b[1;32m   1283\u001b[0m \u001b[43m    \u001b[49m\u001b[38;5;28;43mstr\u001b[39;49m\u001b[43m(\u001b[49m\u001b[43mprompt\u001b[49m\u001b[43m)\u001b[49m\u001b[43m,\u001b[49m\n\u001b[1;32m   1284\u001b[0m \u001b[43m    \u001b[49m\u001b[38;5;28;43mself\u001b[39;49m\u001b[38;5;241;43m.\u001b[39;49m\u001b[43m_parent_ident\u001b[49m\u001b[43m[\u001b[49m\u001b[38;5;124;43m\"\u001b[39;49m\u001b[38;5;124;43mshell\u001b[39;49m\u001b[38;5;124;43m\"\u001b[39;49m\u001b[43m]\u001b[49m\u001b[43m,\u001b[49m\n\u001b[1;32m   1285\u001b[0m \u001b[43m    \u001b[49m\u001b[38;5;28;43mself\u001b[39;49m\u001b[38;5;241;43m.\u001b[39;49m\u001b[43mget_parent\u001b[49m\u001b[43m(\u001b[49m\u001b[38;5;124;43m\"\u001b[39;49m\u001b[38;5;124;43mshell\u001b[39;49m\u001b[38;5;124;43m\"\u001b[39;49m\u001b[43m)\u001b[49m\u001b[43m,\u001b[49m\n\u001b[1;32m   1286\u001b[0m \u001b[43m    \u001b[49m\u001b[43mpassword\u001b[49m\u001b[38;5;241;43m=\u001b[39;49m\u001b[38;5;28;43;01mFalse\u001b[39;49;00m\u001b[43m,\u001b[49m\n\u001b[1;32m   1287\u001b[0m \u001b[43m\u001b[49m\u001b[43m)\u001b[49m\n",
      "File \u001b[0;32m/anaconda/envs/azureml_py38/lib/python3.10/site-packages/ipykernel/kernelbase.py:1325\u001b[0m, in \u001b[0;36mKernel._input_request\u001b[0;34m(self, prompt, ident, parent, password)\u001b[0m\n\u001b[1;32m   1322\u001b[0m \u001b[38;5;28;01mexcept\u001b[39;00m \u001b[38;5;167;01mKeyboardInterrupt\u001b[39;00m:\n\u001b[1;32m   1323\u001b[0m     \u001b[38;5;66;03m# re-raise KeyboardInterrupt, to truncate traceback\u001b[39;00m\n\u001b[1;32m   1324\u001b[0m     msg \u001b[38;5;241m=\u001b[39m \u001b[38;5;124m\"\u001b[39m\u001b[38;5;124mInterrupted by user\u001b[39m\u001b[38;5;124m\"\u001b[39m\n\u001b[0;32m-> 1325\u001b[0m     \u001b[38;5;28;01mraise\u001b[39;00m \u001b[38;5;167;01mKeyboardInterrupt\u001b[39;00m(msg) \u001b[38;5;28;01mfrom\u001b[39;00m \u001b[38;5;28;01mNone\u001b[39;00m\n\u001b[1;32m   1326\u001b[0m \u001b[38;5;28;01mexcept\u001b[39;00m \u001b[38;5;167;01mException\u001b[39;00m:\n\u001b[1;32m   1327\u001b[0m     \u001b[38;5;28mself\u001b[39m\u001b[38;5;241m.\u001b[39mlog\u001b[38;5;241m.\u001b[39mwarning(\u001b[38;5;124m\"\u001b[39m\u001b[38;5;124mInvalid Message:\u001b[39m\u001b[38;5;124m\"\u001b[39m, exc_info\u001b[38;5;241m=\u001b[39m\u001b[38;5;28;01mTrue\u001b[39;00m)\n",
      "\u001b[0;31mKeyboardInterrupt\u001b[0m: Interrupted by user"
     ]
    }
   ],
   "source": [
    "dnis = ('dn1','dni2','dni3','dni4')\n",
    "mutable_dnis = list(dnis)\n",
    "quedan = len(dnis)\n",
    "\n",
    "\n",
    "while quedan:\n",
    "    aDni = input('dni?')\n",
    "\n",
    "    if aDni in mutable_dnis:\n",
    "        print('Puede pasar',aDni)\n",
    "        mutable_dnis.remove(aDni)\n",
    "        quedan = len(mutable_dnis)\n",
    "\n",
    "        if quedan:\n",
    "            print('Quedan:',quedan)\n",
    "        else:\n",
    "            print('COMPLETO')\n",
    "\n",
    "else:\n",
    "    print('NO PERMTIDO',aDni)"
   ]
  },
  {
   "cell_type": "code",
   "execution_count": 4,
   "metadata": {},
   "outputs": [],
   "source": [
    "#Se tiene una lista de alumnos con sus asignaturas y la nota más alta y nota más baja de cada una. \n",
    "#Genera un programa que permita completar y extraer datos estadísticos de la lista de la siguiente manera: \n",
    "#\t1- Completar la nota media de cada alumno por asignatura.\n",
    "    #para cada alumno (for)\n",
    "        #para cada asignatura \n",
    "            #calcular la nota media\n",
    "                #añadir el valor\n",
    "#\t2- Obtener la media global por asignatura.\n",
    "#\t3- Obtener la media global por alumno.\n",
    "#\t4- Obtener la media global de todos los alumnos.\n",
    "#\t5- Obtener para un alumno determinado, la nota media.\n",
    "#\t6- Obtener los alumnos con una nota media superior o igual a un número dado (5).\n",
    "#\t7- Salir\n",
    "#Haz que el programa solicite la opción que quieres ejecutar el prompt \n",
    "\n",
    "notas = {\n",
    "\"Sosanna\": [{'maths': (4, 3)}, {'lang': (5, 5)}], \n",
    "\"Rosalind\": [{'maths': (8, 6)}, {'lang': (10, 5)}], \n",
    "\"Gaspar\": [{'maths': (1, 6)}, {'lang': (7, 5)}], \n",
    "\"Herve\": [{'maths': (2, 5)}, {'lang': (8, 2)}], \n",
    "\"Jayme\": [{'maths': (5, 1)}, {'lang': (10, 7)}], \n",
    "\"Dasya\": [{'maths': (5, 3)}, {'lang': (8, 2)}], \n",
    "\"Christean\": [{'maths': (2, 10)}, {'lang': (3, 6)}], \n",
    "\"Risa\": [{'maths': (9, 9)}, {'lang': (2, 7)}], \n",
    "\"Florenza\": [{'maths': (10, 6)}, {'lang': (5, 5)}], \n",
    "\"Donella\": [{'maths': (10, 3)}, {'lang': (8, 3)}], \n",
    "\"Cesaro\": [{'maths': (2, 4)}, {'lang': (1, 7)}], \n",
    "\"Beatrisa\": [{'maths': (9, 2)}, {'lang': (1, 5)}], \n",
    "\"Thain\": [{'maths': (1, 7)}, {'lang': (6, 3)}], \n",
    "\"Shaylah\": [{'maths': (6, 7)}, {'lang': (2, 1)}], \n",
    "\"Anne-marie\": [{'maths': (4, 6)}, {'lang': (4, 3)}], \n",
    "\"Swen\": [{'maths': (8, 5)}, {'lang': (7, 6)}], \n",
    "\"Vaclav\": [{'maths': (1, 4)}, {'lang': (9, 10)}], \n",
    "\"Hermine\": [{'maths': (2, 1)}, {'lang': (8, 1)}], \n",
    "\"Sybyl\": [{'maths': (10, 2)}, {'lang': (3, 10)}], \n",
    "\"Ynes\": [{'maths': (6, 10)}, {'lang': (3, 2)}], \n",
    "\"Antonie\": [{'maths': (9, 3)}, {'lang': (4, 9)}], \n",
    "\"Trixie\": [{'maths': (9, 10)}, {'lang': (5, 4)}], \n",
    "\"Mathilde\": [{'maths': (4, 5)}, {'lang': (8, 1)}], \n",
    "\"Merlina\": [{'maths': (6, 8)}, {'lang': (4, 6)}], \n",
    "\"Zared\": [{'maths': (1, 9)}, {'lang': (5, 3)}], \n",
    "\"Brandais\": [{'maths': (3, 3)}, {'lang': (7, 1)}], \n",
    "\"Reggie\": [{'maths': (10, 2)}, {'lang': (10, 8)}], \n",
    "\"Burk\": [{'maths': (8, 7)}, {'lang': (5, 5)}], \n",
    "\"Seymour\": [{'maths': (5, 8)}, {'lang': (8, 3)}], \n",
    "\"Fergus\": [{'maths': (2, 3)}, {'lang': (5, 5)}], \n",
    "\"Jeanette\": [{'maths': (1, 5)}, {'lang': (5, 4)}], \n",
    "\"Arther\": [{'maths': (5, 5)}, {'lang': (9, 5)}], \n",
    "\"Avictor\": [{'maths': (9, 2)}, {'lang': (8, 5)}], \n",
    "\"Lynette\": [{'maths': (7, 2)}, {'lang': (10, 6)}], \n",
    "\"Briano\": [{'maths': (2, 2)}, {'lang': (4, 6)}], \n",
    "\"Daveta\": [{'maths': (4, 7)}, {'lang': (2, 9)}], \n",
    "\"Devonne\": [{'maths': (10, 2)}, {'lang': (6, 8)}], \n",
    "\"Chiarra\": [{'maths': (6, 1)}, {'lang': (4, 3)}], \n",
    "\"Torrey\": [{'maths': (2, 9)}, {'lang': (1, 3)}], \n",
    "\"Hattie\": [{'maths': (2, 5)}, {'lang': (7, 2)}], \n",
    "\"Florenza\": [{'maths': (10, 5)}, {'lang': (4, 4)}], \n",
    "\"Veronica\": [{'maths': (8, 6)}, {'lang': (3, 4)}], \n",
    "\"Jared\": [{'maths': (6, 1)}, {'lang': (1, 3)}], \n",
    "\"Lori\": [{'maths': (6, 1)}, {'lang': (10, 10)}], \n",
    "\"Kristopher\": [{'maths': (1, 2)}, {'lang': (4, 9)}], \n",
    "\"Jeanne\": [{'maths': (1, 1)}, {'lang': (1, 4)}], \n",
    "\"Maximilian\": [{'maths': (3, 3)}, {'lang': (10, 9)}], \n",
    "\"Merrily\": [{'maths': (5, 7)}, {'lang': (1, 3)}], \n",
    "\"Skipton\": [{'maths': (9, 6)}, {'lang': (4, 9)}], \n",
    "\"Tom\": [{'maths': (10, 5)}, {'lang': (1, 7)}], \n",
    "\"Cirilo\": [{'maths': (2, 2)}, {'lang': (6, 6)}], \n",
    "\"Warde\": [{'maths': (8, 7)}, {'lang': (9, 5)}], \n",
    "\"Woodie\": [{'maths': (10, 3)}, {'lang': (2, 1)}], \n",
    "\"Odetta\": [{'maths': (3, 7)}, {'lang': (7, 9)}], \n",
    "\"Cordelie\": [{'maths': (2, 3)}, {'lang': (9, 1)}], \n",
    "\"Wilow\": [{'maths': (10, 8)}, {'lang': (2, 6)}], \n",
    "\"Charissa\": [{'maths': (5, 3)}, {'lang': (5, 10)}], \n",
    "\"Ralina\": [{'maths': (10, 9)}, {'lang': (8, 2)}], \n",
    "\"Charisse\": [{'maths': (6, 5)}, {'lang': (1, 9)}], \n",
    "\"Huntley\": [{'maths': (8, 7)}, {'lang': (10, 3)}], \n",
    "\"Ella\": [{'maths': (4, 3)}, {'lang': (6, 8)}], \n",
    "\"Nelli\": [{'maths': (2, 6)}, {'lang': (5, 10)}], \n",
    "\"Gearalt\": [{'maths': (4, 9)}, {'lang': (4, 4)}], \n",
    "\"Zahara\": [{'maths': (2, 1)}, {'lang': (1, 4)}], \n",
    "\"Dilan\": [{'maths': (8, 6)}, {'lang': (7, 6)}], \n",
    "\"Frederique\": [{'maths': (5, 10)}, {'lang': (2, 8)}], \n",
    "\"Saba\": [{'maths': (9, 8)}, {'lang': (9, 9)}], \n",
    "\"Natalya\": [{'maths': (1, 5)}, {'lang': (5, 2)}], \n",
    "\"Myrah\": [{'maths': (3, 8)}, {'lang': (3, 5)}], \n",
    "\"Magnum\": [{'maths': (7, 1)}, {'lang': (2, 9)}], \n",
    "\"Grace\": [{'maths': (9, 4)}, {'lang': (6, 6)}], \n",
    "\"Ilysa\": [{'maths': (10, 9)}, {'lang': (8, 8)}], \n",
    "\"Clerkclaude\": [{'maths': (7, 2)}, {'lang': (10, 2)}], \n",
    "\"Yetty\": [{'maths': (8, 6)}, {'lang': (2, 4)}], \n",
    "\"Cassandre\": [{'maths': (6, 1)}, {'lang': (9, 5)}], \n",
    "\"Olympie\": [{'maths': (3, 3)}, {'lang': (10, 3)}], \n",
    "\"Joshuah\": [{'maths': (7, 7)}, {'lang': (9, 2)}], \n",
    "\"Kristine\": [{'maths': (3, 4)}, {'lang': (7, 7)}], \n",
    "\"Dean\": [{'maths': (8, 6)}, {'lang': (10, 10)}], \n",
    "\"Ilyssa\": [{'maths': (9, 7)}, {'lang': (5, 3)}], \n",
    "\"Nannie\": [{'maths': (6, 9)}, {'lang': (2, 10)}], \n",
    "\"Feodor\": [{'maths': (5, 6)}, {'lang': (3, 7)}], \n",
    "\"Guglielma\": [{'maths': (10, 3)}, {'lang': (9, 6)}], \n",
    "\"Alla\": [{'maths': (9, 10)}, {'lang': (7, 7)}], \n",
    "\"Rowland\": [{'maths': (4, 10)}, {'lang': (8, 7)}], \n",
    "\"Miquela\": [{'maths': (7, 5)}, {'lang': (2, 7)}], \n",
    "\"Sapphira\": [{'maths': (4, 6)}, {'lang': (5, 2)}], \n",
    "\"Zorina\": [{'maths': (3, 2)}, {'lang': (4, 9)}], \n",
    "\"Rosemonde\": [{'maths': (10, 6)}, {'lang': (9, 9)}], \n",
    "\"Alisa\": [{'maths': (1, 4)}, {'lang': (9, 5)}], \n",
    "\"Ginger\": [{'maths': (3, 4)}, {'lang': (1, 2)}], \n",
    "\"Karlis\": [{'maths': (9, 8)}, {'lang': (3, 1)}], \n",
    "\"Robbin\": [{'maths': (7, 5)}, {'lang': (10, 8)}], \n",
    "\"Kimberly\": [{'maths': (3, 7)}, {'lang': (8, 1)}], \n",
    "\"Udale\": [{'maths': (7, 1)}, {'lang': (1, 7)}], \n",
    "\"Isidor\": [{'maths': (8, 2)}, {'lang': (6, 3)}], \n",
    "\"Farlee\": [{'maths': (5, 10)}, {'lang': (9, 9)}], \n",
    "\"Katleen\": [{'maths': (8, 6)}, {'lang': (9, 3)}], \n",
    "\"Nanine\": [{'maths': (5, 7)}, {'lang': (9, 9)}], \n",
    "\"Marlow\": [{'maths': (2, 4)}, {'lang': (5, 2)}]\n",
    "}\n",
    "\n"
   ]
  },
  {
   "cell_type": "code",
   "execution_count": 6,
   "metadata": {},
   "outputs": [],
   "source": [
    "notas2 = dict(notas)\n"
   ]
  },
  {
   "cell_type": "code",
   "execution_count": 9,
   "metadata": {},
   "outputs": [
    {
     "name": "stdout",
     "output_type": "stream",
     "text": [
      "Sosanna [{'maths': (4, 3)}, {'lang': (5, 5)}]\n",
      "{'maths': (4, 3)}\n",
      "{'lang': (5, 5)}\n",
      "Rosalind [{'maths': (8, 6)}, {'lang': (10, 5)}]\n",
      "{'maths': (8, 6)}\n",
      "{'lang': (10, 5)}\n",
      "Gaspar [{'maths': (1, 6)}, {'lang': (7, 5)}]\n",
      "{'maths': (1, 6)}\n",
      "{'lang': (7, 5)}\n"
     ]
    }
   ],
   "source": [
    "notas2 = dict(notas)\n",
    "lnotas2 = list(notas2.items())\n",
    "subnotas = dict(lnotas2[:3])\n",
    "#para hacer una copia de notas y poder modificar\n",
    "#1- Completar la nota media de cada alumno por asignatura.\n",
    "    #para cada alumno (for)\n",
    "        #para cada asignatura \n",
    "            #calcular la nota media\n",
    "                #añadir el valor\n",
    "\n",
    "for alumno,asignaturas in subnotas.items():\n",
    "    print(alumno,asignaturas)\n",
    "    for asignatura in asignaturas:\n",
    "        print(asignatura)"
   ]
  }
 ],
 "metadata": {
  "kernelspec": {
   "display_name": "Python 3.8 - AzureML",
   "language": "python",
   "name": "python38-azureml"
  },
  "language_info": {
   "codemirror_mode": {
    "name": "ipython",
    "version": 3
   },
   "file_extension": ".py",
   "mimetype": "text/x-python",
   "name": "python",
   "nbconvert_exporter": "python",
   "pygments_lexer": "ipython3",
   "version": "3.10.11"
  }
 },
 "nbformat": 4,
 "nbformat_minor": 2
}
