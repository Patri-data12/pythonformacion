{
 "cells": [
  {
   "cell_type": "code",
   "execution_count": 8,
   "metadata": {},
   "outputs": [
    {
     "name": "stdout",
     "output_type": "stream",
     "text": [
      "Estas son unas palabras!!!\n",
      "22\n",
      "Estas son unas palabras\n"
     ]
    }
   ],
   "source": [
    "texto = 'Estas son unas palabras'\n",
    "un_numero = 22\n",
    "\n",
    "def imprimeTexto(texto):\n",
    "    texto = texto + '!!!'\n",
    "    print(texto)\n",
    "    print(un_numero)\n",
    "\n",
    "\n",
    "imprimeTexto(texto)\n",
    "print(texto)\n",
    "\n"
   ]
  },
  {
   "cell_type": "code",
   "execution_count": 10,
   "metadata": {},
   "outputs": [
    {
     "name": "stdout",
     "output_type": "stream",
     "text": [
      "Estas son unas palabras!!!\n",
      "32\n"
     ]
    }
   ],
   "source": [
    "texto = 'Estas son unas palabras'\n",
    "un_numero = 22\n",
    "\n",
    "def imprimeTextoMejorada(texto,num):\n",
    "    texto = texto + '!!!'\n",
    "    print(texto)\n",
    "    num += 10\n",
    "    print(num)\n",
    "\n",
    "\n",
    "imprimeTextoMejorada(texto, un_numero)\n"
   ]
  },
  {
   "cell_type": "code",
   "execution_count": 18,
   "metadata": {},
   "outputs": [
    {
     "ename": "NameError",
     "evalue": "name 'suma' is not defined",
     "output_type": "error",
     "traceback": [
      "\u001b[0;31m---------------------------------------------------------------------------\u001b[0m",
      "\u001b[0;31mNameError\u001b[0m                                 Traceback (most recent call last)",
      "Cell \u001b[0;32mIn[18], line 7\u001b[0m\n\u001b[1;32m      4\u001b[0m     \u001b[38;5;28;01mfor\u001b[39;00m venta \u001b[38;5;129;01min\u001b[39;00m ventas:\n\u001b[1;32m      5\u001b[0m         suma \u001b[38;5;241m+\u001b[39m\u001b[38;5;241m=\u001b[39m venta\n\u001b[0;32m----> 7\u001b[0m comision \u001b[38;5;241m=\u001b[39m \u001b[43msuma\u001b[49m\u001b[38;5;241m*\u001b[39mporcent\u001b[38;5;241m/\u001b[39m\u001b[38;5;241m100\u001b[39m\n\u001b[1;32m      8\u001b[0m \u001b[38;5;28mprint\u001b[39m(comision)\n\u001b[1;32m      9\u001b[0m \u001b[38;5;28;01mreturn\u001b[39;00m comision\n",
      "\u001b[0;31mNameError\u001b[0m: name 'suma' is not defined"
     ]
    }
   ],
   "source": [
    "def calculo_comision(ventas,porcent):\n",
    "    #comision = sum(ventas)/100\n",
    "    suma = 0\n",
    "    for venta in ventas:\n",
    "        suma += venta\n",
    "\n",
    "comision = suma*porcent/100\n",
    "print(comision)\n",
    "return comision\n",
    "\n",
    "ventas_reales = [[100, 3000, 400]]\n",
    "porcent = 10\n",
    "\n",
    "valor_comision = calculo_comision(ventas_reales,porcent)\n",
    "\n",
    "print('Informe con: ',valor_comision)\n",
    "\n",
    "todas_las_ventas = [\n",
    "    [100,300,4000],\n",
    "    [200,5000,700],\n",
    "    [300,600,2000]\n",
    "    ]\n",
    "for unas_ventas in todas_las_ventas:\n",
    "   valor_comision = calculo_comision(unas_ventas, porcent)\n",
    "   print('Informe con: ',valor_comision)\n"
   ]
  },
  {
   "cell_type": "code",
   "execution_count": 23,
   "metadata": {},
   "outputs": [
    {
     "ename": "SyntaxError",
     "evalue": "invalid syntax (2266227684.py, line 15)",
     "output_type": "error",
     "traceback": [
      "\u001b[0;36m  Cell \u001b[0;32mIn[23], line 15\u001b[0;36m\u001b[0m\n\u001b[0;31m    def generadorInformeComisiones(nombre, ventasm porcentaje):\u001b[0m\n\u001b[0m                                                   ^\u001b[0m\n\u001b[0;31mSyntaxError\u001b[0m\u001b[0;31m:\u001b[0m invalid syntax\n"
     ]
    }
   ],
   "source": [
    "def calculo_comision(list_ventas,porcent):\n",
    "    #comision = sum(ventas)/100\n",
    "    suma = 0\n",
    "    for venta in list_ventas:\n",
    "        suma += venta\n",
    "\n",
    "    comision = suma*porcent/100\n",
    "    #print(comision)\n",
    "    return comision\n",
    "\n",
    "def imrimirInforme (nombre, comision):\n",
    "    print('La comision para: ',nombre,'es',comision)\n",
    "\n",
    "\n",
    "def generadorInformeComisiones(nombre, ventasm porcentaje):\n",
    "    valor_comision = calculo_comision(ventas_reales, porcentaje)\n",
    "    print(imrimirInforme(nombre, valor_comision))\n",
    "\n",
    "    \n",
    "#PROGRAMA PRINCIPAL\n",
    "ventas_reales = [[100, 3000, 400]]\n",
    "porcentaje = 10\n",
    "\n",
    "valor_comision = calculo_comision(ventas_reales, porcentaje)\n",
    "\n",
    "print(imprimirInforme('Juan',valor_comision))\n",
    "\n",
    "todas_las_ventas = [\n",
    "    [100,300,4000],\n",
    "    [200,5000,700],\n",
    "    [300,600,2000]\n",
    "    ]\n",
    "for unas_ventas in todas_las_ventas:\n",
    "   valor_comision = calculo_comision(unas_ventas, porcentaje)\n",
    "   print('Informe con: ',valor_comision)"
   ]
  },
  {
   "cell_type": "code",
   "execution_count": 27,
   "metadata": {},
   "outputs": [
    {
     "ename": "TypeError",
     "evalue": "unsupported operand type(s) for +=: 'int' and 'list'",
     "output_type": "error",
     "traceback": [
      "\u001b[0;31m---------------------------------------------------------------------------\u001b[0m",
      "\u001b[0;31mTypeError\u001b[0m                                 Traceback (most recent call last)",
      "Cell \u001b[0;32mIn[27], line 24\u001b[0m\n\u001b[1;32m     21\u001b[0m ventas_reales \u001b[38;5;241m=\u001b[39m [[\u001b[38;5;241m100\u001b[39m, \u001b[38;5;241m3000\u001b[39m, \u001b[38;5;241m400\u001b[39m]]\n\u001b[1;32m     22\u001b[0m porcentaje \u001b[38;5;241m=\u001b[39m \u001b[38;5;241m10\u001b[39m\n\u001b[0;32m---> 24\u001b[0m \u001b[43mgeneradorInformeComisiones\u001b[49m\u001b[43m(\u001b[49m\u001b[38;5;124;43m'\u001b[39;49m\u001b[38;5;124;43mJuan\u001b[39;49m\u001b[38;5;124;43m'\u001b[39;49m\u001b[43m,\u001b[49m\u001b[43mventas_reales\u001b[49m\u001b[43m,\u001b[49m\u001b[43m \u001b[49m\u001b[43mporcentaje\u001b[49m\u001b[43m)\u001b[49m\n",
      "Cell \u001b[0;32mIn[27], line 16\u001b[0m, in \u001b[0;36mgeneradorInformeComisiones\u001b[0;34m(nombre, ventas, porcentaje)\u001b[0m\n\u001b[1;32m     15\u001b[0m \u001b[38;5;28;01mdef\u001b[39;00m \u001b[38;5;21mgeneradorInformeComisiones\u001b[39m(nombre, ventas, porcentaje):\n\u001b[0;32m---> 16\u001b[0m     valor_comision \u001b[38;5;241m=\u001b[39m \u001b[43mcalculo_comision\u001b[49m\u001b[43m(\u001b[49m\u001b[43mventas\u001b[49m\u001b[43m,\u001b[49m\u001b[43m \u001b[49m\u001b[43mporcentaje\u001b[49m\u001b[43m)\u001b[49m\n\u001b[1;32m     17\u001b[0m     \u001b[38;5;28mprint\u001b[39m(imrimirInforme(nombre, valor_comision))\n",
      "Cell \u001b[0;32mIn[27], line 5\u001b[0m, in \u001b[0;36mcalculo_comision\u001b[0;34m(list_ventas, porcent)\u001b[0m\n\u001b[1;32m      3\u001b[0m suma \u001b[38;5;241m=\u001b[39m \u001b[38;5;241m0\u001b[39m\n\u001b[1;32m      4\u001b[0m \u001b[38;5;28;01mfor\u001b[39;00m venta \u001b[38;5;129;01min\u001b[39;00m list_ventas:\n\u001b[0;32m----> 5\u001b[0m     suma \u001b[38;5;241m+\u001b[39m\u001b[38;5;241m=\u001b[39m venta\n\u001b[1;32m      7\u001b[0m comision \u001b[38;5;241m=\u001b[39m suma\u001b[38;5;241m*\u001b[39mporcent\u001b[38;5;241m/\u001b[39m\u001b[38;5;241m100\u001b[39m\n\u001b[1;32m      8\u001b[0m \u001b[38;5;66;03m#print(comision)\u001b[39;00m\n",
      "\u001b[0;31mTypeError\u001b[0m: unsupported operand type(s) for +=: 'int' and 'list'"
     ]
    }
   ],
   "source": [
    "def calculo_comision(list_ventas,porcent):\n",
    "    #comision = sum(ventas)/100\n",
    "    suma = 0\n",
    "    for venta in list_ventas:\n",
    "        suma += venta\n",
    "\n",
    "    comision = suma*porcent/100\n",
    "    #print(comision)\n",
    "    return comision\n",
    "\n",
    "def imrimirInforme (nombre, comision):\n",
    "    print('La comision para: ',nombre,'es',comision)\n",
    "\n",
    "\n",
    "def generadorInformeComisiones(nombre, ventas, porcentaje):\n",
    "    valor_comision = calculo_comision(ventas, porcentaje)\n",
    "    print(imrimirInforme(nombre, valor_comision))\n",
    "\n",
    "    \n",
    "#PROGRAMA PRINCIPAL\n",
    "ventas_reales = [[100, 3000, 400]]\n",
    "porcentaje = 10\n",
    "\n",
    "generadorInformeComisiones('Juan',ventas_reales, porcentaje)"
   ]
  },
  {
   "cell_type": "code",
   "execution_count": 30,
   "metadata": {},
   "outputs": [
    {
     "name": "stdout",
     "output_type": "stream",
     "text": [
      "[1, 2, 3, 4]\n"
     ]
    }
   ],
   "source": [
    "def addElemsLista(unaLista):\n",
    "    unaLista.append(4)\n",
    "\n",
    "l1 = [1,2,3]\n",
    "addElemsLista(l1)\n",
    "\n",
    "print(l1)"
   ]
  },
  {
   "cell_type": "code",
   "execution_count": 32,
   "metadata": {},
   "outputs": [
    {
     "name": "stdout",
     "output_type": "stream",
     "text": [
      "[1, 2, 3]\n",
      "[1, 2, 3, 4]\n"
     ]
    }
   ],
   "source": [
    "def addElemsLista(unaLista):\n",
    "    interno = list(unaLista)\n",
    "    unaLista.append(4)\n",
    "    return interno\n",
    "\n",
    "l1 = [1,2,3]\n",
    "l2  = addElemsLista(l1)\n",
    "\n",
    "\n",
    "print(l2)\n",
    "\n",
    "print(l1)"
   ]
  },
  {
   "cell_type": "code",
   "execution_count": 34,
   "metadata": {},
   "outputs": [
    {
     "data": {
      "text/plain": [
       "3"
      ]
     },
     "execution_count": 34,
     "metadata": {},
     "output_type": "execute_result"
    }
   ],
   "source": [
    "def suma(a,b):\n",
    "    return a+b\n",
    "val = suma(b=1,a=2)\n",
    "val"
   ]
  },
  {
   "cell_type": "code",
   "execution_count": 40,
   "metadata": {},
   "outputs": [
    {
     "name": "stdout",
     "output_type": "stream",
     "text": [
      "(1, 2, 3, 4)\n",
      "1 2 3 4\n",
      "2 4 6 8\n"
     ]
    }
   ],
   "source": [
    "def suma2(*args):\n",
    "    (a,b,c,d) = args #variables definidas dentro de la tupla. Asignando los argumentos a variables concretas. \n",
    "    print(args)\n",
    "    print(a,b,c,d)\n",
    "    return (a*2,b*2,c*2,d*2)\n",
    "\n",
    "w,x,y,z = suma2(1,2,3,4) #la tupla no necesita paréntesis aunque a efectos de legibilidad es mejor usarlos\n",
    "print(w,x,y,z)"
   ]
  },
  {
   "cell_type": "code",
   "execution_count": 42,
   "metadata": {},
   "outputs": [
    {
     "name": "stdout",
     "output_type": "stream",
     "text": [
      "1\n",
      "2\n",
      "3\n",
      "4\n",
      "(1, 2, 3, 4)\n",
      "1 2 3 4\n",
      "2 4 6 8\n"
     ]
    }
   ],
   "source": [
    "def suma2(*args):#la direccion de la asignacion de valores viene de args, los argumentos son los que traen los valores y entonces se matchean con las variables\n",
    "    for anArg in args:\n",
    "        print(anArg)\n",
    "\n",
    "    (a,b,c,d) = args #variables definidas dentro de la tupla. Asignando los argumentos a variables concretas. \n",
    "    #esta defnicion sustituye el \n",
    "    #a = args[0]\n",
    "    #b = args[1]\n",
    "    #c = args[2]\n",
    "    #d = args[3]\n",
    "    print(args)\n",
    "    print(a,b,c,d)\n",
    "    return (a*2,b*2,c*2,d*2)\n",
    "\n",
    "w,x,y,z = suma2(1,2,3,4) #la tupla no necesita paréntesis aunque a efectos de legibilidad es mejor usarlos\n",
    "print(w,x,y,z)"
   ]
  },
  {
   "cell_type": "code",
   "execution_count": 44,
   "metadata": {},
   "outputs": [
    {
     "name": "stdout",
     "output_type": "stream",
     "text": [
      "1 2 10 20 30\n"
     ]
    }
   ],
   "source": [
    "#Combinación de definiciones\n",
    "\n",
    "def suma3(a,b,*args):\n",
    "    print(a,b,*args)\n",
    "\n",
    "suma3(1,2,10,20,30)\n",
    "\n"
   ]
  },
  {
   "cell_type": "code",
   "execution_count": 46,
   "metadata": {},
   "outputs": [
    {
     "name": "stdout",
     "output_type": "stream",
     "text": [
      "{'a': 1, 'b': 2, 'c': 3}\n"
     ]
    }
   ],
   "source": [
    "def suma4(**args): #Se diferencia del asterisco simple que accedes a los valores en modo tupla, con el doble asterisco obtienes un diccionario con claves y con el que se podrá trabajar en las variables.\n",
    "    print(args)\n",
    "\n",
    "suma4(a=1,b=2,c=3)\n"
   ]
  },
  {
   "cell_type": "code",
   "execution_count": 51,
   "metadata": {},
   "outputs": [
    {
     "name": "stdout",
     "output_type": "stream",
     "text": [
      "1 2\n",
      "1 0\n"
     ]
    }
   ],
   "source": [
    "def suma5(a,b=0): #valores predefinidos detrás de los valores que no son predefinidos\n",
    "    print(a,b)\n",
    "\n",
    "suma5(1,2)\n",
    "suma5(1)"
   ]
  },
  {
   "cell_type": "code",
   "execution_count": 53,
   "metadata": {},
   "outputs": [
    {
     "ename": "NameError",
     "evalue": "name 'isOK' is not defined",
     "output_type": "error",
     "traceback": [
      "\u001b[0;31m---------------------------------------------------------------------------\u001b[0m",
      "\u001b[0;31mNameError\u001b[0m                                 Traceback (most recent call last)",
      "Cell \u001b[0;32mIn[53], line 5\u001b[0m\n\u001b[1;32m      3\u001b[0m     \u001b[38;5;28mprint\u001b[39m(a,b) \u001b[38;5;66;03m#sin necesidad de usar o visualizar el resultado de aquí, no pondríamos un return\u001b[39;00m\n\u001b[1;32m      4\u001b[0m     \u001b[38;5;28;01mreturn\u001b[39;00m \u001b[38;5;28;01mTrue\u001b[39;00m \u001b[38;5;66;03m#para que nos comente al menos que ha hecho algo\u001b[39;00m\n\u001b[0;32m----> 5\u001b[0m \u001b[38;5;28;01mif\u001b[39;00m \u001b[43misOK\u001b[49m:\n\u001b[1;32m      6\u001b[0m     \u001b[38;5;28mprint\u001b[39m(\u001b[38;5;124m'\u001b[39m\u001b[38;5;124mcontinuar\u001b[39m\u001b[38;5;124m'\u001b[39m)\n\u001b[1;32m      7\u001b[0m \u001b[38;5;28;01melse\u001b[39;00m:\n",
      "\u001b[0;31mNameError\u001b[0m: name 'isOK' is not defined"
     ]
    }
   ],
   "source": [
    "def generaPDFyGuarda(a,b):\n",
    "    #proceso y genero informe\n",
    "    print(a,b) #sin necesidad de usar o visualizar el resultado de aquí, no pondríamos un return\n",
    "    return True #para que nos comente al menos que ha hecho algo\n",
    "if isOK:\n",
    "    print('continuar')\n",
    "else:\n",
    "    print('parar')\n",
    "    \n",
    "generaPDFyGuarda(1,2)\n",
    "#resto programa"
   ]
  },
  {
   "cell_type": "code",
   "execution_count": 57,
   "metadata": {},
   "outputs": [
    {
     "name": "stdout",
     "output_type": "stream",
     "text": [
      "1156\n",
      "1156\n"
     ]
    }
   ],
   "source": [
    "#FUNCIONES LAMBDA\n",
    "#Si queremos calcular el cuadrado de un numero\n",
    "\n",
    "def cuadrado(n):\n",
    "    return n**2\n",
    "cuadradoL = lambda n: n**2\n",
    "\n",
    "type(cuadradoL)\n",
    "\n",
    "\n",
    "print(cuadrado(34))\n",
    "print(cuadradoL(34))"
   ]
  },
  {
   "cell_type": "code",
   "execution_count": 61,
   "metadata": {},
   "outputs": [
    {
     "name": "stdout",
     "output_type": "stream",
     "text": [
      "2\n",
      "<function miFUnc at 0x7f807b7e3d90>\n",
      "4\n",
      "2\n",
      "<function <lambda> at 0x7f807b7e17e0>\n",
      "6\n"
     ]
    }
   ],
   "source": [
    "def funcEspecial(num,unaFuncion):\n",
    "    print(num)\n",
    "    print(unaFuncion)\n",
    "    res = unaFuncion(num)\n",
    "    print(res)\n",
    "\n",
    "unNUm = 2\n",
    "def miFUnc(val):\n",
    "    return val*2\n",
    "\n",
    "funcEspecial(unNUm, miFUnc)\n",
    "\n",
    "funcEspecial(unNUm, lambda x:x*3)"
   ]
  },
  {
   "cell_type": "code",
   "execution_count": null,
   "metadata": {},
   "outputs": [],
   "source": []
  }
 ],
 "metadata": {
  "kernelspec": {
   "display_name": "Python 3.8 - AzureML",
   "language": "python",
   "name": "python38-azureml"
  },
  "language_info": {
   "codemirror_mode": {
    "name": "ipython",
    "version": 3
   },
   "file_extension": ".py",
   "mimetype": "text/x-python",
   "name": "python",
   "nbconvert_exporter": "python",
   "pygments_lexer": "ipython3",
   "version": "3.10.11"
  }
 },
 "nbformat": 4,
 "nbformat_minor": 2
}
