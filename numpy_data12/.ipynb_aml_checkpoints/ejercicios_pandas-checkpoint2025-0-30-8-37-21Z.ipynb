{
  "cells": [
    {
      "cell_type": "markdown",
      "metadata": {},
      "source": [
        "\n",
        "Ejercicios Series\n"
      ]
    },
    {
      "cell_type": "code",
      "execution_count": 7,
      "metadata": {},
      "outputs": [],
      "source": [
        "import pandas as pd\n"
      ]
    },
    {
      "cell_type": "code",
      "execution_count": 8,
      "metadata": {},
      "outputs": [
        {
          "name": "stdout",
          "output_type": "stream",
          "text": [
            "0    100.00\n",
            "1    200.00\n",
            "2       NaN\n",
            "3    300.12\n",
            "4    400.00\n",
            "dtype: float64\n"
          ]
        }
      ],
      "source": [
        "#1. Escribe un programa Pandas para cambiar el tipo de datos de una columna o serie dada. Serie de muestra:\n",
        "\"\"\"    Serie de datos originales:\n",
        "0       100\n",
        "1       200\n",
        "2    python\n",
        "3    300.12\n",
        "4       400\n",
        "dtype: objeto\n",
        "Cambio a numérico:\n",
        "0    100.00\n",
        "1    200.00\n",
        "2       NaN\n",
        "3    300.12\n",
        "4    400.00\n",
        "tipo: float64\"\"\"\n",
        "\n",
        "s = pd.Series([100, 200, 'python', 300.12, 400] ) \n",
        "sn=pd.to_numeric(s,errors='coerce')\n",
        "print(sn)\n",
        "\n"
      ]
    },
    {
      "cell_type": "code",
      "execution_count": 9,
      "metadata": {},
      "outputs": [
        {
          "data": {
            "text/plain": [
              "0       Red\n",
              "1     Green\n",
              "2     White\n",
              "3       Red\n",
              "4     Black\n",
              "5    Yellow\n",
              "dtype: object"
            ]
          },
          "execution_count": 9,
          "metadata": {},
          "output_type": "execute_result"
        }
      ],
      "source": [
        "#2_Escribe un programa Pandas para convertir series de listas en una serie.\n",
        "\"\"\"ConnectionErrorEjemplo de salida:\n",
        "Serie original de listas\n",
        "0    [Red, Green, White]\n",
        "1           [Red, Black]\n",
        "2               [Yellow]\n",
        "dtype: objeto\n",
        "Una serie:\n",
        "0       Red\n",
        "1     Green\n",
        "2     White\n",
        "3       Red\n",
        "4     Black\n",
        "5    Yellow\n",
        "dtype: objeto\"\"\"\n",
        "\n",
        "#from itertools import chain \n",
        "serie = pd.Series([['Red', 'Green', 'White'], ['Red', 'Black'], ['Yellow']])\n",
        "serie.apply(pd.Series).stack().reset_index(drop=True)\n",
        "#serie.apply(pd.Series())\n",
        "#serie2=pd.Series(chain.from_iterable(serie.tolist()))\n"
      ]
    },
    {
      "cell_type": "code",
      "execution_count": 10,
      "metadata": {},
      "outputs": [
        {
          "name": "stdout",
          "output_type": "stream",
          "text": [
            "\n",
            "Serie de datos actualizada:\n",
            "0       100\n",
            "1       200\n",
            "2    python\n",
            "3    300.12\n",
            "4       400\n",
            "5       500\n",
            "6       600\n",
            "dtype: object\n"
          ]
        }
      ],
      "source": [
        "#3_Escribe un programa Pandas para agregar algunos datos a una serie existente.\n",
        "\"\"\"Ejemplo de salida:\n",
        "Serie de datos originales:\n",
        "0       100\n",
        "1       200\n",
        "2    python\n",
        "3    300.12\n",
        "4       400\n",
        "dtype: objeto\n",
        "\n",
        "Serie de datos después de agregar algunos datos:\n",
        "0       100\n",
        "1       200\n",
        "2    python\n",
        "3    300.12\n",
        "4       400\n",
        "5       500\n",
        "6       php\n",
        "dtype: objeto\"\"\"\n",
        "\n",
        "s1= pd.Series([100, 200, 'python', 300.12, 400]) \n",
        "# Nuevos datos a agregar \n",
        "datos_nuevos = pd.Series([500, 600]) \n",
        "# Combinar la serie original con los nuevos datos \n",
        "nueva_s1 = pd.concat([s1, datos_nuevos], ignore_index=True) \n",
        "print(\"\\nSerie de datos actualizada:\") \n",
        "print(nueva_s1)"
      ]
    },
    {
      "cell_type": "code",
      "execution_count": 11,
      "metadata": {},
      "outputs": [
        {
          "data": {
            "text/plain": [
              "0    0\n",
              "1    1\n",
              "2    2\n",
              "3    3\n",
              "4    4\n",
              "5    5\n",
              "dtype: int64"
            ]
          },
          "execution_count": 11,
          "metadata": {},
          "output_type": "execute_result"
        }
      ],
      "source": [
        "#4_Escribe un programa Pandas para crear otra serie con un subconjunto de datos según un valor y una condición dada.\n",
        "\"\"\"Ejemplo de salida:\n",
        "Serie de datos originales:\n",
        "0      0\n",
        "1      1\n",
        "2      2\n",
        "\n",
        "....\n",
        "\n",
        "9      9\n",
        "10    10\n",
        "tipo: int64\n",
        "\n",
        "Subconjunto de la serie de datos anterior:\n",
        "0    0\n",
        "1    1\n",
        "2    2\n",
        "3    3\n",
        "4    4\n",
        "5    5\n",
        "tipo: int64\"\"\"\n",
        "\n",
        "s2=pd.Series(list(range(11)))\n",
        "\n",
        "s2[s2 <= 5]\n",
        "\n"
      ]
    },
    {
      "cell_type": "code",
      "execution_count": 12,
      "metadata": {},
      "outputs": [
        {
          "name": "stdout",
          "output_type": "stream",
          "text": [
            "a    1\n",
            "b    2\n",
            "c    3\n",
            "d    4\n",
            "e    5\n",
            "dtype: int64\n",
            "b    2\n",
            "a    1\n",
            "c    3\n",
            "d    4\n",
            "e    5\n",
            "dtype: int64\n"
          ]
        }
      ],
      "source": [
        "#5_Escribe un programa Pandas para cambiar el orden del índice de una serie dada.\n",
        "\"\"\"Ejemplo de salida:\n",
        "Serie de datos originales:\n",
        "A    1\n",
        "B    2\n",
        "C    3\n",
        "D    4\n",
        "E    5\n",
        "tipo: int64\n",
        "\n",
        "Serie de datos después de cambiar el orden del índice:\n",
        "B    2\n",
        "A    1\n",
        "C    3\n",
        "D    4\n",
        "E    5\n",
        "tipo: int64\"\"\"\n",
        "import pandas as pd\n",
        "\n",
        "#s3=pd.Series({'A':1,'B':2,'C':3,'D':4,'E':5}\n",
        "s3=pd.Series(data=[1,2,3,4,5], index=['a','b','c','d','e'])\n",
        "print(s3)\n",
        "s3 = s3.reindex(['b', 'a', 'c', 'd', 'e'])\n",
        "print(s3)"
      ]
    },
    {
      "cell_type": "code",
      "execution_count": 14,
      "metadata": {},
      "outputs": [
        {
          "name": "stdout",
          "output_type": "stream",
          "text": [
            "0    1\n",
            "1    2\n",
            "2    3\n",
            "3    4\n",
            "4    5\n",
            "dtype: int64\n",
            "0     2\n",
            "1     4\n",
            "2     6\n",
            "3     8\n",
            "4    10\n",
            "dtype: int64\n"
          ]
        },
        {
          "data": {
            "text/plain": [
              "0    1\n",
              "2    3\n",
              "4    5\n",
              "dtype: int64"
            ]
          },
          "execution_count": 14,
          "metadata": {},
          "output_type": "execute_result"
        }
      ],
      "source": [
        "#6_Escribe un programa Pandas para obtener los elementos de una serie dada que no están presentes en otra serie dada.\n",
        "\"\"\"Ejemplo de salida:  \n",
        "Serie original:\n",
        "sr1:\n",
        "0    1\n",
        "1    2\n",
        "2    3\n",
        "3    4\n",
        "4    5\n",
        "dtype: int64\n",
        "sr2:\n",
        "0     2\n",
        "1     4\n",
        "2     6\n",
        "3     8\n",
        "4    10\n",
        "dtype: int64\n",
        "\n",
        "Elementos de sr1 no presentes en sr2:\n",
        "0    1\n",
        "2    3\n",
        "4    5\n",
        "tipo: int64\"\"\"\n",
        "\n",
        "sr1=pd.Series([1,2,3,4,5])\n",
        "sr2=pd.Series([2,4,6,8,10])\n",
        "print(sr1)\n",
        "print(sr2)\n",
        "\n",
        "mask = ~sr1.isin(sr2)\n",
        "sr1[mask]"
      ]
    },
    {
      "cell_type": "code",
      "execution_count": 15,
      "metadata": {},
      "outputs": [],
      "source": [
        "import numpy as np\n",
        "\n"
      ]
    },
    {
      "cell_type": "code",
      "execution_count": 16,
      "metadata": {},
      "outputs": [
        {
          "name": "stdout",
          "output_type": "stream",
          "text": [
            "0     4\n",
            "1     1\n",
            "2     4\n",
            "3     1\n",
            "4     4\n",
            "5     4\n",
            "6     3\n",
            "7     3\n",
            "8     1\n",
            "9     4\n",
            "10    1\n",
            "11    4\n",
            "12    2\n",
            "13    2\n",
            "14    3\n",
            "dtype: int64\n",
            "4    6\n",
            "1    4\n",
            "3    3\n",
            "2    2\n",
            "dtype: int64\n",
            "Int64Index([4, 1, 3, 2], dtype='int64')\n",
            "4\n"
          ]
        },
        {
          "data": {
            "text/plain": [
              "0        4\n",
              "1     otro\n",
              "2        4\n",
              "3     otro\n",
              "4        4\n",
              "5        4\n",
              "6     otro\n",
              "7     otro\n",
              "8     otro\n",
              "9        4\n",
              "10    otro\n",
              "11       4\n",
              "12    otro\n",
              "13    otro\n",
              "14    otro\n",
              "dtype: object"
            ]
          },
          "execution_count": 16,
          "metadata": {},
          "output_type": "execute_result"
        }
      ],
      "source": [
        "#8_Escribe un programa Pandas para calcular los conteos de frecuencia de cada valor único de una serie dada.\n",
        "#9_Escribe un programa Pandas para mostrar el valor más frecuente en una serie dada y reemplazar todo lo demás con el valor 'Otro'.\n",
        "\"\"\"Ejemplo de salida:\n",
        "Serie original:\n",
        "0     1\n",
        "1     7\n",
        "2     1\n",
        "3     6\n",
        "\n",
        "...\n",
        "\n",
        "\n",
        "37    0\n",
        "38    4\n",
        "39    8\n",
        "dtype: objeto\n",
        "Frecuencia de cada valor único de dicha serie.\n",
        "0    9\n",
        "2    7\n",
        "9    6\n",
        "....\n",
        "3    2\n",
        "4    1\n",
        "5    1\n",
        "tipo: int64\"\"\"\n",
        "\n",
        "nums=np.random.randint(1,5, [15])\n",
        "\n",
        "s4=pd.Series(nums)\n",
        "print(s4)\n",
        "conteo=s4.value_counts()\n",
        "print(conteo)\n",
        "print(conteo.index)\n",
        "print(conteo.index[0])\n",
        "mask = ~s4.isin([conteo.index[0]])\n",
        "s4[mask]='otro'\n",
        "s4\n",
        "\n"
      ]
    },
    {
      "cell_type": "code",
      "execution_count": 17,
      "metadata": {},
      "outputs": [
        {
          "name": "stdout",
          "output_type": "stream",
          "text": [
            "0     1\n",
            "2     3\n",
            "4     5\n",
            "6     7\n",
            "9    10\n",
            "dtype: int64\n"
          ]
        }
      ],
      "source": [
        "#10_Escribe un programa Pandas para obtener las posiciones de los elementos de una serie dada en otra serie dada.\n",
        "\"\"\"Ejemplo de salida:  \n",
        "Serie original:\n",
        "0     1\n",
        "1     2\n",
        "2     3\n",
        "3     4\n",
        "4     5\n",
        "5     6\n",
        "6     7\n",
        "7     8\n",
        "8     9\n",
        "9    10\n",
        "tipo: int64\n",
        "0     1\n",
        "1     3\n",
        "2     5\n",
        "3     7\n",
        "4    10\n",
        "tipo: int64\n",
        "Posiciones de los elementos de la serie 2 en la serie 1:\n",
        "[0, 2, 4, 6, 9]\"\"\"\n",
        "\n",
        "s5=pd.Series([1,2,3,4,5,6,7,8,9,10])\n",
        "\n",
        "posiciones=[0,2,4,6,9]\n",
        "serie_de_s5=s5.iloc[posiciones]\n",
        "print(serie_de_s5)"
      ]
    },
    {
      "cell_type": "code",
      "execution_count": 18,
      "metadata": {
        "gather": {
          "logged": 1737621824154
        }
      },
      "outputs": [
        {
          "name": "stdout",
          "output_type": "stream",
          "text": [
            "0       PhP\n",
            "1    PythoN\n",
            "2      JavA\n",
            "3        C#\n",
            "dtype: object\n"
          ]
        }
      ],
      "source": [
        "#11_Escribe un programa Pandas que convierta el primer y el último carácter de cada palabra a mayúsculas en cada palabra de una serie dada.\n",
        "\"\"\"Ejemplo de salida:\n",
        "Serie original:\n",
        "0       php\n",
        "1    python\n",
        "2      java\n",
        "3        c#\n",
        "dtype: objeto\n",
        "\n",
        "Primer y último carácter de cada palabra en mayúscula:\n",
        "0       PhP\n",
        "1    PythoN\n",
        "2      JavA\n",
        "3        C#\n",
        "dtype: objeto\"\"\"\n",
        "\n",
        "s6 = pd.Series(['php','python','java','c#'])\n",
        "def mayusculas(palabra):\n",
        "    if len(palabra) > 1:\n",
        "        return palabra[0].upper() + palabra[1:-1] + palabra[-1].upper()\n",
        "    else:\n",
        "        return palabra.upper()  \n",
        "\n",
        "#result=s6.apply(lambda x: x[0]+x[1:-1]+x[-1]).upper())\n",
        "s6_nueva=s6.apply(mayusculas)\n",
        "print(s6_nueva)"
      ]
    },
    {
      "cell_type": "code",
      "execution_count": 19,
      "metadata": {},
      "outputs": [
        {
          "name": "stdout",
          "output_type": "stream",
          "text": [
            "0    NaN\n",
            "1    NaN\n",
            "2    0.0\n",
            "3    1.0\n",
            "4   -1.0\n",
            "5   -1.0\n",
            "6    3.0\n",
            "dtype: float64\n"
          ]
        }
      ],
      "source": [
        "#12_Escribe un programa Pandas para calcular la diferencia de diferencias entre números consecutivos de una serie dada.\n",
        "\"\"\"Ejemplo de salida:\n",
        "Serie original:\n",
        "0     1\n",
        "1     3\n",
        "2     5\n",
        "3     8\n",
        "4    10\n",
        "5    11\n",
        "6    15\n",
        "tipo: int64\n",
        "\n",
        "Diferencia de diferencias entre números consecutivos de la serie:\n",
        "[nan, 2.0, 2.0, 3.0, 2.0, 1.0, 4.0]\n",
        "[nan, nan, 0.0, 1.0, -1.0, -1.0, 3.0]\"\"\"\n",
        "\n",
        "s7=pd.Series([1,3,5,8,10,11,15])\n",
        "\n",
        "diferencias = s7.diff()\n",
        "\n",
        "diferencias_diferencias = diferencias.diff()\n",
        "print(diferencias_diferencias)"
      ]
    }
  ],
  "metadata": {
    "kernel_info": {
      "name": "python38-azureml"
    },
    "kernelspec": {
      "display_name": "Python 3.8 - AzureML",
      "language": "python",
      "name": "python38-azureml"
    },
    "language_info": {
      "codemirror_mode": {
        "name": "ipython",
        "version": 3
      },
      "file_extension": ".py",
      "mimetype": "text/x-python",
      "name": "python",
      "nbconvert_exporter": "python",
      "pygments_lexer": "ipython3",
      "version": "3.10.11"
    },
    "nteract": {
      "version": "nteract-front-end@1.0.0"
    }
  },
  "nbformat": 4,
  "nbformat_minor": 2
}
